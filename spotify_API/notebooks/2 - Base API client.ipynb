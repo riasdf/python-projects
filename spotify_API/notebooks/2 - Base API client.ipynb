{
 "metadata": {
  "language_info": {
   "codemirror_mode": {
    "name": "ipython",
    "version": 3
   },
   "file_extension": ".py",
   "mimetype": "text/x-python",
   "name": "python",
   "nbconvert_exporter": "python",
   "pygments_lexer": "ipython3",
   "version": "3.8.3-final"
  },
  "orig_nbformat": 2,
  "kernelspec": {
   "name": "python3",
   "display_name": "Python 3"
  }
 },
 "nbformat": 4,
 "nbformat_minor": 2,
 "cells": [
  {
   "cell_type": "code",
   "execution_count": 3,
   "metadata": {},
   "outputs": [],
   "source": [
    "import requests\n",
    "import base64\n",
    "import datetime"
   ]
  },
  {
   "cell_type": "code",
   "execution_count": 4,
   "metadata": {},
   "outputs": [],
   "source": [
    "client_id = '********************'\n",
    "client_secret = '********************'"
   ]
  },
  {
   "cell_type": "code",
   "execution_count": 12,
   "metadata": {},
   "outputs": [],
   "source": [
    "\n",
    "class SpotifyAPI(object):\n",
    "    \"\"\"\n",
    "    Spotify Client\n",
    "    \n",
    "    Parameters\n",
    "    ---\n",
    "    client_id : str\n",
    "    client_secret : str\n",
    "    \"\"\"\n",
    "    token_url = \"https://accounts.spotify.com/api/token\"\n",
    "    access_token = None\n",
    "    access_token_expires = datetime.datetime.now()\n",
    "    client_id = None\n",
    "    client_secret = None\n",
    "\n",
    "    def __init__(self, client_id, client_secret, *args, **kwargs):\n",
    "        super().__init__(*args, **kwargs)\n",
    "        self.client_id = client_id\n",
    "        self.client_secret = client_secret\n",
    "\n",
    "    def get_client_credentials(self):\n",
    "        \"\"\"\n",
    "        Returns :  a base 64 encoded string.\n",
    "        \"\"\"\n",
    "        if self.client_id is None or self.client_secret is None:\n",
    "            raise Exception(\"You must set client_id and client_secret\")\n",
    "        client_cred = f\"{self.client_id}:{self.client_secret}\"\n",
    "        client_cred_b64 = base64.b64encode(client_cred.encode())\n",
    "        return client_cred_b64.decode()\n",
    "\n",
    "    def get_token_headers(self):\n",
    "        client_cred_b64 = self.get_client_credentials()\n",
    "        return {\n",
    "            'Authorization': f'Basic {client_cred_b64}'}\n",
    "\n",
    "    def get_token_data(self):\n",
    "        return {\n",
    "            'grant_type': 'client_credentials'\n",
    "        }\n",
    "\n",
    "    def perform_auth(self):\n",
    "        token_url = self.token_url\n",
    "        token_data = self.get_token_data()\n",
    "        token_header = self.get_token_headers()\n",
    "        r = requests.post(token_url,\n",
    "                          data=token_data,\n",
    "                          headers=token_header)\n",
    "        if r.status_code not in range(200, 299):\n",
    "            return False\n",
    "        data = r.json()\n",
    "        now = datetime.datetime.now()\n",
    "        self.access_token = data['access_token']\n",
    "        expires_in = data['expires_in']\n",
    "        expires = now + datetime.timedelta(seconds=expires_in)\n",
    "        self.access_token_expires = expires\n",
    "        self.access_token_did_expire = expires < now\n",
    "        return True\n"
   ]
  },
  {
   "cell_type": "code",
   "execution_count": 13,
   "metadata": {},
   "outputs": [],
   "source": [
    "client = SpotifyAPI(client_id, client_secret)"
   ]
  },
  {
   "cell_type": "code",
   "execution_count": 14,
   "metadata": {},
   "outputs": [
    {
     "output_type": "execute_result",
     "data": {
      "text/plain": [
       "True"
      ]
     },
     "metadata": {},
     "execution_count": 14
    }
   ],
   "source": [
    "client.perform_auth()"
   ]
  },
  {
   "cell_type": "code",
   "execution_count": 15,
   "metadata": {},
   "outputs": [
    {
     "output_type": "execute_result",
     "data": {
      "text/plain": [
       "'BQCwIicvJRQLZYSJsO_3VPoAA2cIcwFFAhSW6TwCaYhTAvUea2AcU406Zdlngxx71KIOA9toWaaVrpU-Z6o'"
      ]
     },
     "metadata": {},
     "execution_count": 15
    }
   ],
   "source": [
    "client.access_token"
   ]
  },
  {
   "cell_type": "code",
   "execution_count": null,
   "metadata": {},
   "outputs": [],
   "source": []
  }
 ]
}