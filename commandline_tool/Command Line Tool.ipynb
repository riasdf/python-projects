{
 "metadata": {
  "language_info": {
   "codemirror_mode": {
    "name": "ipython",
    "version": 3
   },
   "file_extension": ".py",
   "mimetype": "text/x-python",
   "name": "python",
   "nbconvert_exporter": "python",
   "pygments_lexer": "ipython3",
   "version": "3.8.3-final"
  },
  "orig_nbformat": 2,
  "kernelspec": {
   "name": "python3",
   "display_name": "Python 3"
  }
 },
 "nbformat": 4,
 "nbformat_minor": 2,
 "cells": [
  {
   "source": [
    "# Command Line Tool in Python"
   ],
   "cell_type": "markdown",
   "metadata": {}
  },
  {
   "source": [
    "First understand how input works"
   ],
   "cell_type": "markdown",
   "metadata": {}
  },
  {
   "cell_type": "code",
   "execution_count": 37,
   "metadata": {},
   "outputs": [],
   "source": [
    "name = input(\"what is your name\")"
   ]
  },
  {
   "cell_type": "code",
   "execution_count": 3,
   "metadata": {},
   "outputs": [
    {
     "output_type": "execute_result",
     "data": {
      "text/plain": [
       "'kumar'"
      ]
     },
     "metadata": {},
     "execution_count": 3
    }
   ],
   "source": [
    "name\n"
   ]
  },
  {
   "source": [
    "How password input works"
   ],
   "cell_type": "markdown",
   "metadata": {}
  },
  {
   "cell_type": "code",
   "execution_count": 5,
   "metadata": {},
   "outputs": [],
   "source": [
    "pwd = input(\"what is your password?\")\n"
   ]
  },
  {
   "cell_type": "code",
   "execution_count": 6,
   "metadata": {},
   "outputs": [
    {
     "output_type": "execute_result",
     "data": {
      "text/plain": [
       "'hello world'"
      ]
     },
     "metadata": {},
     "execution_count": 6
    }
   ],
   "source": [
    "pwd"
   ]
  },
  {
   "source": [
    "Hidden password input"
   ],
   "cell_type": "markdown",
   "metadata": {}
  },
  {
   "cell_type": "code",
   "execution_count": 7,
   "metadata": {},
   "outputs": [],
   "source": [
    "from getpass import getpass\n",
    "pwd = getpass(\"what is your password\")"
   ]
  },
  {
   "cell_type": "code",
   "execution_count": 8,
   "metadata": {},
   "outputs": [
    {
     "output_type": "execute_result",
     "data": {
      "text/plain": [
       "'hello world python'"
      ]
     },
     "metadata": {},
     "execution_count": 8
    }
   ],
   "source": [
    "pwd"
   ]
  },
  {
   "source": [
    "writing files using jupyter notebook."
   ],
   "cell_type": "markdown",
   "metadata": {}
  },
  {
   "cell_type": "code",
   "execution_count": 10,
   "metadata": {},
   "outputs": [
    {
     "output_type": "stream",
     "name": "stdout",
     "text": [
      "Writing raw_input.py\n"
     ]
    }
   ],
   "source": [
    "%%writefile raw_input.py\n",
    "\n",
    "from getpass import getpass\n",
    "name = input(\"what is your name?\")\n",
    "pw = getpass(\"what is your password?\")\n",
    "\n",
    "print(name, pw)"
   ]
  },
  {
   "source": [
    "Command line script using `sys` module"
   ],
   "cell_type": "markdown",
   "metadata": {}
  },
  {
   "cell_type": "code",
   "execution_count": 13,
   "metadata": {},
   "outputs": [
    {
     "output_type": "stream",
     "name": "stdout",
     "text": [
      "Overwriting cli_sys.py\n"
     ]
    }
   ],
   "source": [
    "%%writefile cli_sys.py\n",
    "\n",
    "import sys\n",
    "# from getpass import getpass\n",
    "# name = input(\"what is your name?\")\n",
    "# pw = getpass(\"what is your password?\")\n",
    "\n",
    "# print(name, pw)\n",
    "if __name__ == \"__main__\":\n",
    "    print(sys.argv)\n",
    "    name = sys.argv[1]\n",
    "    print(f\"{name=}\")"
   ]
  },
  {
   "cell_type": "code",
   "execution_count": 14,
   "metadata": {},
   "outputs": [
    {
     "output_type": "stream",
     "name": "stdout",
     "text": [
      "Overwriting cli_sys.py\n"
     ]
    }
   ],
   "source": [
    "%%writefile cli_sys.py\n",
    "\n",
    "import sys\n",
    "if __name__ == \"__main__\":\n",
    "    try:\n",
    "        name = sys.argv[1]\n",
    "    except:\n",
    "        name = input(\"What is your name?\")\n",
    "    from getpass import getpass\n",
    "    pw = getpass(\"what is your password?\")\n",
    "    print(f\"{name=}, {pw=}\")"
   ]
  },
  {
   "source": [
    "Command line script using `argparse` module"
   ],
   "cell_type": "markdown",
   "metadata": {}
  },
  {
   "cell_type": "code",
   "execution_count": 19,
   "metadata": {},
   "outputs": [
    {
     "output_type": "stream",
     "name": "stdout",
     "text": [
      "Overwriting cli_argparse.py\n"
     ]
    }
   ],
   "source": [
    "%%writefile cli_argparse.py\n",
    "\n",
    "import argparse\n",
    "if __name__ == \"__main__\":\n",
    "    parser = argparse.ArgumentParser()\n",
    "    parser.add_argument('integers', type=int, nargs=\"+\")\n",
    "    parser.add_argument('--sum', dest='accumulate', action='store_const', const=sum, default=max)\n",
    "    args = parser.parse_args()\n",
    "    print(args.accumulate(args.integers))"
   ]
  },
  {
   "cell_type": "code",
   "execution_count": 20,
   "metadata": {},
   "outputs": [
    {
     "output_type": "stream",
     "name": "stdout",
     "text": [
      "Overwriting cli_argparse.py\n"
     ]
    }
   ],
   "source": [
    "%%writefile cli_argparse.py\n",
    "\n",
    "\n",
    "def my_const_fun(*args, **kwargs):\n",
    "    print(args, kwargs)\n",
    "\n",
    "def my_default_fun(*args, **kwargs):\n",
    "    print(\"default=\", args, kwargs)\n",
    "\n",
    "\n",
    "import argparse\n",
    "if __name__ == \"__main__\":\n",
    "    parser = argparse.ArgumentParser()\n",
    "    parser.add_argument('integers', type=int, nargs=\"+\")\n",
    "    # parser.add_argument('--sum', dest='accumulate', action='store_const', const=sum, default=max)\n",
    "    parser.add_argument('--math', dest='math_is_fun', action='store_const', const=my_const_fun, default=my_default_fun)\n",
    "    args = parser.parse_args()\n",
    "    print(args.math_is_fun(args.integers))"
   ]
  },
  {
   "source": [
    "But it requires to do a lot of work to build a powerful command line tool with `argparse` module.\n",
    "\n",
    "So We will be using the `fire` module to make powerful command line tools easily\n",
    "Let's install"
   ],
   "cell_type": "markdown",
   "metadata": {}
  },
  {
   "cell_type": "code",
   "execution_count": 21,
   "metadata": {},
   "outputs": [
    {
     "output_type": "stream",
     "name": "stdout",
     "text": [
      "Collecting fire\n",
      "  Downloading fire-0.3.1.tar.gz (81 kB)\n",
      "\u001b[K     |████████████████████████████████| 81 kB 273 kB/s \n",
      "\u001b[?25hRequirement already satisfied: six in /home/kumar/anaconda3/lib/python3.8/site-packages (from fire) (1.15.0)\n",
      "Requirement already satisfied: termcolor in /home/kumar/anaconda3/lib/python3.8/site-packages (from fire) (1.1.0)\n",
      "Building wheels for collected packages: fire\n",
      "  Building wheel for fire (setup.py) ... \u001b[?25ldone\n",
      "\u001b[?25h  Created wheel for fire: filename=fire-0.3.1-py2.py3-none-any.whl size=111005 sha256=187881e204ed8a513a90546b47340a162e6b31cc086f3873e6819325834d76aa\n",
      "  Stored in directory: /home/kumar/.cache/pip/wheels/35/a0/e2/7c4d0cd36f74f5ca64306f2553b3438af7d158e359a17e8382\n",
      "Successfully built fire\n",
      "Installing collected packages: fire\n",
      "Successfully installed fire-0.3.1\n"
     ]
    }
   ],
   "source": [
    "!pip install fire"
   ]
  },
  {
   "cell_type": "code",
   "execution_count": 22,
   "metadata": {},
   "outputs": [
    {
     "output_type": "stream",
     "name": "stdout",
     "text": [
      "Writing cli_fire.py\n"
     ]
    }
   ],
   "source": [
    "%%writefile cli_fire.py\n",
    "\n",
    "import fire\n",
    "\n",
    "def hello(name=\"world\"):\n",
    "    return f\"hello {name}\"\n",
    "\n",
    "if __name__ == \"__main__\":\n",
    "    fire.Fire(hello)"
   ]
  },
  {
   "cell_type": "code",
   "execution_count": 24,
   "metadata": {},
   "outputs": [
    {
     "output_type": "stream",
     "name": "stdout",
     "text": [
      "Overwriting cli_fire.py\n"
     ]
    }
   ],
   "source": [
    "%%writefile cli_fire.py\n",
    "\n",
    "from getpass import getpass\n",
    "import fire\n",
    "\n",
    "def login(name=None):\n",
    "    if name is None:\n",
    "        name = input(\"What is your name?\")\n",
    "    pw = getpass(\"what is your password?\")\n",
    "\n",
    "    return f\"{name=}, {pw=}\"\n",
    "\n",
    "if __name__ == \"__main__\":\n",
    "    fire.Fire(login)"
   ]
  },
  {
   "cell_type": "code",
   "execution_count": 29,
   "metadata": {},
   "outputs": [
    {
     "output_type": "stream",
     "name": "stdout",
     "text": [
      "Overwriting cli_fire_pipefile.py\n"
     ]
    }
   ],
   "source": [
    "%%writefile cli_fire_pipefile.py\n",
    "\n",
    "from getpass import getpass\n",
    "\n",
    "import fire\n",
    "\n",
    "def login(username=None):\n",
    "    if username is None:\n",
    "        username = input(\"what is your username?\\n\")\n",
    "    if username is None:\n",
    "        print(\"username is required!\")\n",
    "        return \n",
    "    pw = getpass(\"what is your password?\\n\")\n",
    "    return username, pw\n",
    "\n",
    "\n",
    "def scrape_tag(tag='python', query_filter='Votes', max_pages=50, page_size=25):\n",
    "    base_url = 'https://stackoverflow.com/questions/tagged/'\n",
    "    datas = []\n",
    "    for p in range(max_pages):\n",
    "        page_num = p+1\n",
    "        url = f\"{base_url}{tag}?tab={query_filter}&page={page_num}&page_size={page_size}\"\n",
    "        # datas += extract_data_from_url(url)\n",
    "        # time.sleep(1.2)\n",
    "        datas.append(url)\n",
    "    return datas\n",
    "\n",
    "class PipeLine(object):\n",
    "    def __init__(self,):\n",
    "        self.scrape = scrape_tag\n",
    "        self.login = login\n",
    "\n",
    "if __name__ == \"__main__\":\n",
    "    fire.Fire(PipeLine())"
   ]
  },
  {
   "source": [
    "very easy with `fire` it automatically coverts the `function parameters` into `named argument` of `command line tool` and commands as well"
   ],
   "cell_type": "markdown",
   "metadata": {}
  },
  {
   "source": [
    "### Bonus"
   ],
   "cell_type": "markdown",
   "metadata": {}
  },
  {
   "cell_type": "code",
   "execution_count": 31,
   "metadata": {},
   "outputs": [],
   "source": [
    "import inspect\n",
    "from collections import OrderedDict\n",
    "\n",
    "def rando_fn(abc, df=\"123\"):\n",
    "    print(abc, df)"
   ]
  },
  {
   "cell_type": "code",
   "execution_count": 33,
   "metadata": {},
   "outputs": [
    {
     "output_type": "execute_result",
     "data": {
      "text/plain": [
       "<Signature (abc, df='123')>"
      ]
     },
     "metadata": {},
     "execution_count": 33
    }
   ],
   "source": [
    "sig = inspect.signature(rando_fn)\n",
    "sig"
   ]
  },
  {
   "cell_type": "code",
   "execution_count": 34,
   "metadata": {},
   "outputs": [
    {
     "output_type": "execute_result",
     "data": {
      "text/plain": [
       "mappingproxy({'abc': <Parameter \"abc\">, 'df': <Parameter \"df='123'\">})"
      ]
     },
     "metadata": {},
     "execution_count": 34
    }
   ],
   "source": [
    "sig.parameters"
   ]
  },
  {
   "cell_type": "code",
   "execution_count": 36,
   "metadata": {},
   "outputs": [
    {
     "output_type": "execute_result",
     "data": {
      "text/plain": [
       "odict_items([('abc', <Parameter \"abc\">), ('df', <Parameter \"df='123'\">)])"
      ]
     },
     "metadata": {},
     "execution_count": 36
    }
   ],
   "source": [
    "sig.parameters.items()"
   ]
  },
  {
   "cell_type": "code",
   "execution_count": null,
   "metadata": {},
   "outputs": [],
   "source": []
  }
 ]
}