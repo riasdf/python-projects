{
 "metadata": {
  "language_info": {
   "codemirror_mode": {
    "name": "ipython",
    "version": 3
   },
   "file_extension": ".py",
   "mimetype": "text/x-python",
   "name": "python",
   "nbconvert_exporter": "python",
   "pygments_lexer": "ipython3",
   "version": "3.8.3-final"
  },
  "orig_nbformat": 2,
  "kernelspec": {
   "name": "python3",
   "display_name": "Python 3"
  }
 },
 "nbformat": 4,
 "nbformat_minor": 2,
 "cells": [
  {
   "source": [
    "# Jupyter Pipeline"
   ],
   "cell_type": "markdown",
   "metadata": {}
  },
  {
   "cell_type": "code",
   "execution_count": 1,
   "metadata": {},
   "outputs": [],
   "source": [
    "import os\n",
    "import pandas as pd"
   ]
  },
  {
   "cell_type": "code",
   "execution_count": 8,
   "metadata": {},
   "outputs": [
    {
     "output_type": "execute_result",
     "data": {
      "text/plain": [
       "'/home/kumar/Coding/jupyter_pipeline'"
      ]
     },
     "metadata": {},
     "execution_count": 8
    }
   ],
   "source": [
    "cwd = os.getcwd()\n",
    "BASE_DIR = os.path.abspath(cwd)\n",
    "DATA_DIR = os.path.join(BASE_DIR, 'data')\n",
    "BASE_DIR"
   ]
  },
  {
   "cell_type": "code",
   "execution_count": 9,
   "metadata": {},
   "outputs": [
    {
     "output_type": "execute_result",
     "data": {
      "text/plain": [
       "['movies-2018.csv',\n",
       " 'movies-2016.csv',\n",
       " 'movies-2017.csv',\n",
       " 'movies-2015.csv',\n",
       " 'movies-2014.csv',\n",
       " 'movies-2012.csv',\n",
       " 'movies-2011.csv',\n",
       " 'movies-2019.csv',\n",
       " 'movies-2020.csv',\n",
       " 'movies-2013.csv']"
      ]
     },
     "metadata": {},
     "execution_count": 9
    }
   ],
   "source": [
    "os.listdir(DATA_DIR)"
   ]
  },
  {
   "cell_type": "code",
   "execution_count": 13,
   "metadata": {},
   "outputs": [],
   "source": [
    "my_items = [{'category': \"Action\", 'title':\"My awesome movie\"}, {\"category\":\"comedy\", \"title\": \"A comedy movie\"}]\n",
    "df = pd.DataFrame(my_items)"
   ]
  },
  {
   "cell_type": "code",
   "execution_count": 14,
   "metadata": {},
   "outputs": [
    {
     "output_type": "execute_result",
     "data": {
      "text/plain": [
       "  category             title\n",
       "0   Action  My awesome movie\n",
       "1   comedy    A comedy movie"
      ],
      "text/html": "<div>\n<style scoped>\n    .dataframe tbody tr th:only-of-type {\n        vertical-align: middle;\n    }\n\n    .dataframe tbody tr th {\n        vertical-align: top;\n    }\n\n    .dataframe thead th {\n        text-align: right;\n    }\n</style>\n<table border=\"1\" class=\"dataframe\">\n  <thead>\n    <tr style=\"text-align: right;\">\n      <th></th>\n      <th>category</th>\n      <th>title</th>\n    </tr>\n  </thead>\n  <tbody>\n    <tr>\n      <th>0</th>\n      <td>Action</td>\n      <td>My awesome movie</td>\n    </tr>\n    <tr>\n      <th>1</th>\n      <td>comedy</td>\n      <td>A comedy movie</td>\n    </tr>\n  </tbody>\n</table>\n</div>"
     },
     "metadata": {},
     "execution_count": 14
    }
   ],
   "source": [
    "df"
   ]
  },
  {
   "cell_type": "code",
   "execution_count": 15,
   "metadata": {},
   "outputs": [
    {
     "output_type": "execute_result",
     "data": {
      "text/plain": [
       "0    Action\n",
       "1    comedy\n",
       "Name: category, dtype: object"
      ]
     },
     "metadata": {},
     "execution_count": 15
    }
   ],
   "source": [
    "df['category']"
   ]
  },
  {
   "cell_type": "code",
   "execution_count": 16,
   "metadata": {},
   "outputs": [
    {
     "output_type": "execute_result",
     "data": {
      "text/plain": [
       "0    My awesome movie\n",
       "1      A comedy movie\n",
       "Name: title, dtype: object"
      ]
     },
     "metadata": {},
     "execution_count": 16
    }
   ],
   "source": [
    "df['title']"
   ]
  },
  {
   "cell_type": "code",
   "execution_count": 17,
   "metadata": {},
   "outputs": [
    {
     "output_type": "error",
     "ename": "KeyError",
     "evalue": "0",
     "traceback": [
      "\u001b[0;31m---------------------------------------------------------------------------\u001b[0m",
      "\u001b[0;31mKeyError\u001b[0m                                  Traceback (most recent call last)",
      "\u001b[0;32m~/anaconda3/lib/python3.8/site-packages/pandas/core/indexes/base.py\u001b[0m in \u001b[0;36mget_loc\u001b[0;34m(self, key, method, tolerance)\u001b[0m\n\u001b[1;32m   2645\u001b[0m             \u001b[0;32mtry\u001b[0m\u001b[0;34m:\u001b[0m\u001b[0;34m\u001b[0m\u001b[0;34m\u001b[0m\u001b[0m\n\u001b[0;32m-> 2646\u001b[0;31m                 \u001b[0;32mreturn\u001b[0m \u001b[0mself\u001b[0m\u001b[0;34m.\u001b[0m\u001b[0m_engine\u001b[0m\u001b[0;34m.\u001b[0m\u001b[0mget_loc\u001b[0m\u001b[0;34m(\u001b[0m\u001b[0mkey\u001b[0m\u001b[0;34m)\u001b[0m\u001b[0;34m\u001b[0m\u001b[0;34m\u001b[0m\u001b[0m\n\u001b[0m\u001b[1;32m   2647\u001b[0m             \u001b[0;32mexcept\u001b[0m \u001b[0mKeyError\u001b[0m\u001b[0;34m:\u001b[0m\u001b[0;34m\u001b[0m\u001b[0;34m\u001b[0m\u001b[0m\n",
      "\u001b[0;32mpandas/_libs/index.pyx\u001b[0m in \u001b[0;36mpandas._libs.index.IndexEngine.get_loc\u001b[0;34m()\u001b[0m\n",
      "\u001b[0;32mpandas/_libs/index.pyx\u001b[0m in \u001b[0;36mpandas._libs.index.IndexEngine.get_loc\u001b[0;34m()\u001b[0m\n",
      "\u001b[0;32mpandas/_libs/hashtable_class_helper.pxi\u001b[0m in \u001b[0;36mpandas._libs.hashtable.PyObjectHashTable.get_item\u001b[0;34m()\u001b[0m\n",
      "\u001b[0;32mpandas/_libs/hashtable_class_helper.pxi\u001b[0m in \u001b[0;36mpandas._libs.hashtable.PyObjectHashTable.get_item\u001b[0;34m()\u001b[0m\n",
      "\u001b[0;31mKeyError\u001b[0m: 0",
      "\nDuring handling of the above exception, another exception occurred:\n",
      "\u001b[0;31mKeyError\u001b[0m                                  Traceback (most recent call last)",
      "\u001b[0;32m<ipython-input-17-ad11118bc8f3>\u001b[0m in \u001b[0;36m<module>\u001b[0;34m\u001b[0m\n\u001b[0;32m----> 1\u001b[0;31m \u001b[0mdf\u001b[0m\u001b[0;34m[\u001b[0m\u001b[0;36m0\u001b[0m\u001b[0;34m]\u001b[0m\u001b[0;34m\u001b[0m\u001b[0;34m\u001b[0m\u001b[0m\n\u001b[0m",
      "\u001b[0;32m~/anaconda3/lib/python3.8/site-packages/pandas/core/frame.py\u001b[0m in \u001b[0;36m__getitem__\u001b[0;34m(self, key)\u001b[0m\n\u001b[1;32m   2798\u001b[0m             \u001b[0;32mif\u001b[0m \u001b[0mself\u001b[0m\u001b[0;34m.\u001b[0m\u001b[0mcolumns\u001b[0m\u001b[0;34m.\u001b[0m\u001b[0mnlevels\u001b[0m \u001b[0;34m>\u001b[0m \u001b[0;36m1\u001b[0m\u001b[0;34m:\u001b[0m\u001b[0;34m\u001b[0m\u001b[0;34m\u001b[0m\u001b[0m\n\u001b[1;32m   2799\u001b[0m                 \u001b[0;32mreturn\u001b[0m \u001b[0mself\u001b[0m\u001b[0;34m.\u001b[0m\u001b[0m_getitem_multilevel\u001b[0m\u001b[0;34m(\u001b[0m\u001b[0mkey\u001b[0m\u001b[0;34m)\u001b[0m\u001b[0;34m\u001b[0m\u001b[0;34m\u001b[0m\u001b[0m\n\u001b[0;32m-> 2800\u001b[0;31m             \u001b[0mindexer\u001b[0m \u001b[0;34m=\u001b[0m \u001b[0mself\u001b[0m\u001b[0;34m.\u001b[0m\u001b[0mcolumns\u001b[0m\u001b[0;34m.\u001b[0m\u001b[0mget_loc\u001b[0m\u001b[0;34m(\u001b[0m\u001b[0mkey\u001b[0m\u001b[0;34m)\u001b[0m\u001b[0;34m\u001b[0m\u001b[0;34m\u001b[0m\u001b[0m\n\u001b[0m\u001b[1;32m   2801\u001b[0m             \u001b[0;32mif\u001b[0m \u001b[0mis_integer\u001b[0m\u001b[0;34m(\u001b[0m\u001b[0mindexer\u001b[0m\u001b[0;34m)\u001b[0m\u001b[0;34m:\u001b[0m\u001b[0;34m\u001b[0m\u001b[0;34m\u001b[0m\u001b[0m\n\u001b[1;32m   2802\u001b[0m                 \u001b[0mindexer\u001b[0m \u001b[0;34m=\u001b[0m \u001b[0;34m[\u001b[0m\u001b[0mindexer\u001b[0m\u001b[0;34m]\u001b[0m\u001b[0;34m\u001b[0m\u001b[0;34m\u001b[0m\u001b[0m\n",
      "\u001b[0;32m~/anaconda3/lib/python3.8/site-packages/pandas/core/indexes/base.py\u001b[0m in \u001b[0;36mget_loc\u001b[0;34m(self, key, method, tolerance)\u001b[0m\n\u001b[1;32m   2646\u001b[0m                 \u001b[0;32mreturn\u001b[0m \u001b[0mself\u001b[0m\u001b[0;34m.\u001b[0m\u001b[0m_engine\u001b[0m\u001b[0;34m.\u001b[0m\u001b[0mget_loc\u001b[0m\u001b[0;34m(\u001b[0m\u001b[0mkey\u001b[0m\u001b[0;34m)\u001b[0m\u001b[0;34m\u001b[0m\u001b[0;34m\u001b[0m\u001b[0m\n\u001b[1;32m   2647\u001b[0m             \u001b[0;32mexcept\u001b[0m \u001b[0mKeyError\u001b[0m\u001b[0;34m:\u001b[0m\u001b[0;34m\u001b[0m\u001b[0;34m\u001b[0m\u001b[0m\n\u001b[0;32m-> 2648\u001b[0;31m                 \u001b[0;32mreturn\u001b[0m \u001b[0mself\u001b[0m\u001b[0;34m.\u001b[0m\u001b[0m_engine\u001b[0m\u001b[0;34m.\u001b[0m\u001b[0mget_loc\u001b[0m\u001b[0;34m(\u001b[0m\u001b[0mself\u001b[0m\u001b[0;34m.\u001b[0m\u001b[0m_maybe_cast_indexer\u001b[0m\u001b[0;34m(\u001b[0m\u001b[0mkey\u001b[0m\u001b[0;34m)\u001b[0m\u001b[0;34m)\u001b[0m\u001b[0;34m\u001b[0m\u001b[0;34m\u001b[0m\u001b[0m\n\u001b[0m\u001b[1;32m   2649\u001b[0m         \u001b[0mindexer\u001b[0m \u001b[0;34m=\u001b[0m \u001b[0mself\u001b[0m\u001b[0;34m.\u001b[0m\u001b[0mget_indexer\u001b[0m\u001b[0;34m(\u001b[0m\u001b[0;34m[\u001b[0m\u001b[0mkey\u001b[0m\u001b[0;34m]\u001b[0m\u001b[0;34m,\u001b[0m \u001b[0mmethod\u001b[0m\u001b[0;34m=\u001b[0m\u001b[0mmethod\u001b[0m\u001b[0;34m,\u001b[0m \u001b[0mtolerance\u001b[0m\u001b[0;34m=\u001b[0m\u001b[0mtolerance\u001b[0m\u001b[0;34m)\u001b[0m\u001b[0;34m\u001b[0m\u001b[0;34m\u001b[0m\u001b[0m\n\u001b[1;32m   2650\u001b[0m         \u001b[0;32mif\u001b[0m \u001b[0mindexer\u001b[0m\u001b[0;34m.\u001b[0m\u001b[0mndim\u001b[0m \u001b[0;34m>\u001b[0m \u001b[0;36m1\u001b[0m \u001b[0;32mor\u001b[0m \u001b[0mindexer\u001b[0m\u001b[0;34m.\u001b[0m\u001b[0msize\u001b[0m \u001b[0;34m>\u001b[0m \u001b[0;36m1\u001b[0m\u001b[0;34m:\u001b[0m\u001b[0;34m\u001b[0m\u001b[0;34m\u001b[0m\u001b[0m\n",
      "\u001b[0;32mpandas/_libs/index.pyx\u001b[0m in \u001b[0;36mpandas._libs.index.IndexEngine.get_loc\u001b[0;34m()\u001b[0m\n",
      "\u001b[0;32mpandas/_libs/index.pyx\u001b[0m in \u001b[0;36mpandas._libs.index.IndexEngine.get_loc\u001b[0;34m()\u001b[0m\n",
      "\u001b[0;32mpandas/_libs/hashtable_class_helper.pxi\u001b[0m in \u001b[0;36mpandas._libs.hashtable.PyObjectHashTable.get_item\u001b[0;34m()\u001b[0m\n",
      "\u001b[0;32mpandas/_libs/hashtable_class_helper.pxi\u001b[0m in \u001b[0;36mpandas._libs.hashtable.PyObjectHashTable.get_item\u001b[0;34m()\u001b[0m\n",
      "\u001b[0;31mKeyError\u001b[0m: 0"
     ]
    }
   ],
   "source": [
    "df[0]"
   ]
  },
  {
   "cell_type": "code",
   "execution_count": 18,
   "metadata": {},
   "outputs": [
    {
     "output_type": "execute_result",
     "data": {
      "text/plain": [
       "category              Action\n",
       "title       My awesome movie\n",
       "Name: 0, dtype: object"
      ]
     },
     "metadata": {},
     "execution_count": 18
    }
   ],
   "source": [
    "df.iloc[0]"
   ]
  },
  {
   "cell_type": "code",
   "execution_count": 20,
   "metadata": {},
   "outputs": [
    {
     "output_type": "execute_result",
     "data": {
      "text/plain": [
       "True"
      ]
     },
     "metadata": {},
     "execution_count": 20
    }
   ],
   "source": [
    "my_data = os.path.join(DATA_DIR, 'movies-2019.csv')\n",
    "os.path.exists(my_data)"
   ]
  },
  {
   "cell_type": "code",
   "execution_count": 22,
   "metadata": {},
   "outputs": [
    {
     "output_type": "execute_result",
     "data": {
      "text/plain": [
       "   Rank                                  Release Group       Worldwide  \\\n",
       "0     1                              Avengers: Endgame  $2,797,800,564   \n",
       "1     2                                  The Lion King  $1,656,943,394   \n",
       "2     3                                      Frozen II  $1,450,026,933   \n",
       "3     4                      Spider-Man: Far from Home  $1,131,927,996   \n",
       "4     5                                 Captain Marvel  $1,128,274,794   \n",
       "5     6                                          Joker  $1,074,251,311   \n",
       "6     7  Star Wars: Episode IX - The Rise of Skywalker  $1,074,144,248   \n",
       "7     8                                    Toy Story 4  $1,073,394,593   \n",
       "8     9                                        Aladdin  $1,050,693,953   \n",
       "9    10                        Jumanji: The Next Level    $800,059,707   \n",
       "\n",
       "       Domestic      %         Foreign    %.1  \n",
       "0  $858,373,000  30.7%  $1,939,427,564  69.3%  \n",
       "1  $543,638,043  32.8%  $1,113,305,351  67.2%  \n",
       "2  $477,373,578  32.9%    $972,653,355  67.1%  \n",
       "3  $390,532,085  34.5%    $741,395,911  65.5%  \n",
       "4  $426,829,839  37.8%    $701,444,955  62.2%  \n",
       "5  $335,451,311  31.2%    $738,800,000  68.8%  \n",
       "6  $515,202,542    48%    $558,941,706    52%  \n",
       "7  $434,038,008  40.4%    $639,356,585  59.6%  \n",
       "8  $355,559,216  33.8%    $695,134,737  66.2%  \n",
       "9  $320,314,960    40%    $479,744,747    60%  "
      ],
      "text/html": "<div>\n<style scoped>\n    .dataframe tbody tr th:only-of-type {\n        vertical-align: middle;\n    }\n\n    .dataframe tbody tr th {\n        vertical-align: top;\n    }\n\n    .dataframe thead th {\n        text-align: right;\n    }\n</style>\n<table border=\"1\" class=\"dataframe\">\n  <thead>\n    <tr style=\"text-align: right;\">\n      <th></th>\n      <th>Rank</th>\n      <th>Release Group</th>\n      <th>Worldwide</th>\n      <th>Domestic</th>\n      <th>%</th>\n      <th>Foreign</th>\n      <th>%.1</th>\n    </tr>\n  </thead>\n  <tbody>\n    <tr>\n      <th>0</th>\n      <td>1</td>\n      <td>Avengers: Endgame</td>\n      <td>$2,797,800,564</td>\n      <td>$858,373,000</td>\n      <td>30.7%</td>\n      <td>$1,939,427,564</td>\n      <td>69.3%</td>\n    </tr>\n    <tr>\n      <th>1</th>\n      <td>2</td>\n      <td>The Lion King</td>\n      <td>$1,656,943,394</td>\n      <td>$543,638,043</td>\n      <td>32.8%</td>\n      <td>$1,113,305,351</td>\n      <td>67.2%</td>\n    </tr>\n    <tr>\n      <th>2</th>\n      <td>3</td>\n      <td>Frozen II</td>\n      <td>$1,450,026,933</td>\n      <td>$477,373,578</td>\n      <td>32.9%</td>\n      <td>$972,653,355</td>\n      <td>67.1%</td>\n    </tr>\n    <tr>\n      <th>3</th>\n      <td>4</td>\n      <td>Spider-Man: Far from Home</td>\n      <td>$1,131,927,996</td>\n      <td>$390,532,085</td>\n      <td>34.5%</td>\n      <td>$741,395,911</td>\n      <td>65.5%</td>\n    </tr>\n    <tr>\n      <th>4</th>\n      <td>5</td>\n      <td>Captain Marvel</td>\n      <td>$1,128,274,794</td>\n      <td>$426,829,839</td>\n      <td>37.8%</td>\n      <td>$701,444,955</td>\n      <td>62.2%</td>\n    </tr>\n    <tr>\n      <th>5</th>\n      <td>6</td>\n      <td>Joker</td>\n      <td>$1,074,251,311</td>\n      <td>$335,451,311</td>\n      <td>31.2%</td>\n      <td>$738,800,000</td>\n      <td>68.8%</td>\n    </tr>\n    <tr>\n      <th>6</th>\n      <td>7</td>\n      <td>Star Wars: Episode IX - The Rise of Skywalker</td>\n      <td>$1,074,144,248</td>\n      <td>$515,202,542</td>\n      <td>48%</td>\n      <td>$558,941,706</td>\n      <td>52%</td>\n    </tr>\n    <tr>\n      <th>7</th>\n      <td>8</td>\n      <td>Toy Story 4</td>\n      <td>$1,073,394,593</td>\n      <td>$434,038,008</td>\n      <td>40.4%</td>\n      <td>$639,356,585</td>\n      <td>59.6%</td>\n    </tr>\n    <tr>\n      <th>8</th>\n      <td>9</td>\n      <td>Aladdin</td>\n      <td>$1,050,693,953</td>\n      <td>$355,559,216</td>\n      <td>33.8%</td>\n      <td>$695,134,737</td>\n      <td>66.2%</td>\n    </tr>\n    <tr>\n      <th>9</th>\n      <td>10</td>\n      <td>Jumanji: The Next Level</td>\n      <td>$800,059,707</td>\n      <td>$320,314,960</td>\n      <td>40%</td>\n      <td>$479,744,747</td>\n      <td>60%</td>\n    </tr>\n  </tbody>\n</table>\n</div>"
     },
     "metadata": {},
     "execution_count": 22
    }
   ],
   "source": [
    "df2 = pd.read_csv(my_data)\n",
    "df2.head(10)"
   ]
  },
  {
   "cell_type": "code",
   "execution_count": 24,
   "metadata": {},
   "outputs": [
    {
     "output_type": "execute_result",
     "data": {
      "text/plain": [
       "     Rank                          Release Group Worldwide Domestic     %  \\\n",
       "772   773                            Serendipity    $2,298   $2,298  100%   \n",
       "773   774                              Jihadists    $2,104   $2,104  100%   \n",
       "774   775           Jimi Hendrix Electric Church    $1,818        -     -   \n",
       "775   776                               Game Day    $1,624   $1,624  100%   \n",
       "776   777  American Playhouse: The Killing Floor    $1,583   $1,583  100%   \n",
       "777   778                    The Hours and Times    $1,273   $1,273  100%   \n",
       "778   779                          The Wolf Hour    $1,255        -     -   \n",
       "779   780  A Fish in the Bathtub 2019 re-release    $1,237   $1,237  100%   \n",
       "780   781                       The Untold Story      $790     $790  100%   \n",
       "781   782                             The Portal      $685        -     -   \n",
       "\n",
       "    Foreign   %.1  \n",
       "772       -     -  \n",
       "773       -     -  \n",
       "774  $1,818  100%  \n",
       "775       -     -  \n",
       "776       -     -  \n",
       "777       -     -  \n",
       "778  $1,255  100%  \n",
       "779       -     -  \n",
       "780       -     -  \n",
       "781    $685  100%  "
      ],
      "text/html": "<div>\n<style scoped>\n    .dataframe tbody tr th:only-of-type {\n        vertical-align: middle;\n    }\n\n    .dataframe tbody tr th {\n        vertical-align: top;\n    }\n\n    .dataframe thead th {\n        text-align: right;\n    }\n</style>\n<table border=\"1\" class=\"dataframe\">\n  <thead>\n    <tr style=\"text-align: right;\">\n      <th></th>\n      <th>Rank</th>\n      <th>Release Group</th>\n      <th>Worldwide</th>\n      <th>Domestic</th>\n      <th>%</th>\n      <th>Foreign</th>\n      <th>%.1</th>\n    </tr>\n  </thead>\n  <tbody>\n    <tr>\n      <th>772</th>\n      <td>773</td>\n      <td>Serendipity</td>\n      <td>$2,298</td>\n      <td>$2,298</td>\n      <td>100%</td>\n      <td>-</td>\n      <td>-</td>\n    </tr>\n    <tr>\n      <th>773</th>\n      <td>774</td>\n      <td>Jihadists</td>\n      <td>$2,104</td>\n      <td>$2,104</td>\n      <td>100%</td>\n      <td>-</td>\n      <td>-</td>\n    </tr>\n    <tr>\n      <th>774</th>\n      <td>775</td>\n      <td>Jimi Hendrix Electric Church</td>\n      <td>$1,818</td>\n      <td>-</td>\n      <td>-</td>\n      <td>$1,818</td>\n      <td>100%</td>\n    </tr>\n    <tr>\n      <th>775</th>\n      <td>776</td>\n      <td>Game Day</td>\n      <td>$1,624</td>\n      <td>$1,624</td>\n      <td>100%</td>\n      <td>-</td>\n      <td>-</td>\n    </tr>\n    <tr>\n      <th>776</th>\n      <td>777</td>\n      <td>American Playhouse: The Killing Floor</td>\n      <td>$1,583</td>\n      <td>$1,583</td>\n      <td>100%</td>\n      <td>-</td>\n      <td>-</td>\n    </tr>\n    <tr>\n      <th>777</th>\n      <td>778</td>\n      <td>The Hours and Times</td>\n      <td>$1,273</td>\n      <td>$1,273</td>\n      <td>100%</td>\n      <td>-</td>\n      <td>-</td>\n    </tr>\n    <tr>\n      <th>778</th>\n      <td>779</td>\n      <td>The Wolf Hour</td>\n      <td>$1,255</td>\n      <td>-</td>\n      <td>-</td>\n      <td>$1,255</td>\n      <td>100%</td>\n    </tr>\n    <tr>\n      <th>779</th>\n      <td>780</td>\n      <td>A Fish in the Bathtub 2019 re-release</td>\n      <td>$1,237</td>\n      <td>$1,237</td>\n      <td>100%</td>\n      <td>-</td>\n      <td>-</td>\n    </tr>\n    <tr>\n      <th>780</th>\n      <td>781</td>\n      <td>The Untold Story</td>\n      <td>$790</td>\n      <td>$790</td>\n      <td>100%</td>\n      <td>-</td>\n      <td>-</td>\n    </tr>\n    <tr>\n      <th>781</th>\n      <td>782</td>\n      <td>The Portal</td>\n      <td>$685</td>\n      <td>-</td>\n      <td>-</td>\n      <td>$685</td>\n      <td>100%</td>\n    </tr>\n  </tbody>\n</table>\n</div>"
     },
     "metadata": {},
     "execution_count": 24
    }
   ],
   "source": [
    "df2.tail(10)"
   ]
  },
  {
   "source": [
    "## Combining dataframes "
   ],
   "cell_type": "markdown",
   "metadata": {}
  },
  {
   "cell_type": "code",
   "execution_count": null,
   "metadata": {},
   "outputs": [],
   "source": []
  }
 ]
}