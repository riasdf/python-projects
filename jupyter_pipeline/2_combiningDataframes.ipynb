{
 "metadata": {
  "language_info": {
   "codemirror_mode": {
    "name": "ipython",
    "version": 3
   },
   "file_extension": ".py",
   "mimetype": "text/x-python",
   "name": "python",
   "nbconvert_exporter": "python",
   "pygments_lexer": "ipython3",
   "version": "3.8.3-final"
  },
  "orig_nbformat": 2,
  "kernelspec": {
   "name": "python3",
   "display_name": "Python 3"
  }
 },
 "nbformat": 4,
 "nbformat_minor": 2,
 "cells": [
  {
   "cell_type": "code",
   "execution_count": 1,
   "metadata": {},
   "outputs": [],
   "source": [
    "import os\n",
    "import pandas as pd"
   ]
  },
  {
   "cell_type": "code",
   "execution_count": 2,
   "metadata": {},
   "outputs": [
    {
     "output_type": "execute_result",
     "data": {
      "text/plain": [
       "'/home/kumar/Coding/jupyter_pipeline'"
      ]
     },
     "metadata": {},
     "execution_count": 2
    }
   ],
   "source": [
    "cwd = os.getcwd()\n",
    "BASE_DIR = os.path.abspath(cwd)\n",
    "DATA_DIR = os.path.join(BASE_DIR, 'data')\n",
    "BASE_DIR"
   ]
  },
  {
   "cell_type": "code",
   "execution_count": 3,
   "metadata": {},
   "outputs": [
    {
     "output_type": "execute_result",
     "data": {
      "text/plain": [
       "['movies-2018.csv',\n",
       " 'movies-2016.csv',\n",
       " 'movies-2017.csv',\n",
       " 'movies-2015.csv',\n",
       " 'movies-2014.csv',\n",
       " 'movies-2012.csv',\n",
       " 'movies-2011.csv',\n",
       " 'movies-2019.csv',\n",
       " 'movies-2020.csv',\n",
       " 'movies-2013.csv']"
      ]
     },
     "metadata": {},
     "execution_count": 3
    }
   ],
   "source": [
    "os.listdir(DATA_DIR)"
   ]
  },
  {
   "cell_type": "code",
   "execution_count": 4,
   "metadata": {},
   "outputs": [
    {
     "output_type": "execute_result",
     "data": {
      "text/plain": [
       "   Rank                                 Release Group       Worldwide  \\\n",
       "0     1  Harry Potter and the Deathly Hallows: Part 2  $1,341,511,219   \n",
       "1     2                Transformers: Dark of the Moon  $1,123,794,079   \n",
       "2     3   Pirates of the Caribbean: On Stranger Tides  $1,045,713,802   \n",
       "3     4     The Twilight Saga: Breaking Dawn - Part 1    $712,205,856   \n",
       "4     5          Mission: Impossible - Ghost Protocol    $694,713,380   \n",
       "\n",
       "       Domestic      %       Foreign    %.1  \n",
       "0  $381,011,219  28.4%  $960,500,000  71.6%  \n",
       "1  $352,390,543  31.4%  $771,403,536  68.6%  \n",
       "2  $241,071,802  23.1%  $804,642,000  76.9%  \n",
       "3  $281,287,133  39.5%  $430,918,723  60.5%  \n",
       "4  $209,397,903  30.1%  $485,315,477  69.9%  "
      ],
      "text/html": "<div>\n<style scoped>\n    .dataframe tbody tr th:only-of-type {\n        vertical-align: middle;\n    }\n\n    .dataframe tbody tr th {\n        vertical-align: top;\n    }\n\n    .dataframe thead th {\n        text-align: right;\n    }\n</style>\n<table border=\"1\" class=\"dataframe\">\n  <thead>\n    <tr style=\"text-align: right;\">\n      <th></th>\n      <th>Rank</th>\n      <th>Release Group</th>\n      <th>Worldwide</th>\n      <th>Domestic</th>\n      <th>%</th>\n      <th>Foreign</th>\n      <th>%.1</th>\n    </tr>\n  </thead>\n  <tbody>\n    <tr>\n      <th>0</th>\n      <td>1</td>\n      <td>Harry Potter and the Deathly Hallows: Part 2</td>\n      <td>$1,341,511,219</td>\n      <td>$381,011,219</td>\n      <td>28.4%</td>\n      <td>$960,500,000</td>\n      <td>71.6%</td>\n    </tr>\n    <tr>\n      <th>1</th>\n      <td>2</td>\n      <td>Transformers: Dark of the Moon</td>\n      <td>$1,123,794,079</td>\n      <td>$352,390,543</td>\n      <td>31.4%</td>\n      <td>$771,403,536</td>\n      <td>68.6%</td>\n    </tr>\n    <tr>\n      <th>2</th>\n      <td>3</td>\n      <td>Pirates of the Caribbean: On Stranger Tides</td>\n      <td>$1,045,713,802</td>\n      <td>$241,071,802</td>\n      <td>23.1%</td>\n      <td>$804,642,000</td>\n      <td>76.9%</td>\n    </tr>\n    <tr>\n      <th>3</th>\n      <td>4</td>\n      <td>The Twilight Saga: Breaking Dawn - Part 1</td>\n      <td>$712,205,856</td>\n      <td>$281,287,133</td>\n      <td>39.5%</td>\n      <td>$430,918,723</td>\n      <td>60.5%</td>\n    </tr>\n    <tr>\n      <th>4</th>\n      <td>5</td>\n      <td>Mission: Impossible - Ghost Protocol</td>\n      <td>$694,713,380</td>\n      <td>$209,397,903</td>\n      <td>30.1%</td>\n      <td>$485,315,477</td>\n      <td>69.9%</td>\n    </tr>\n  </tbody>\n</table>\n</div>"
     },
     "metadata": {},
     "execution_count": 4
    }
   ],
   "source": [
    "df = pd.read_csv(os.path.join(DATA_DIR, 'movies-2011.csv'))\n",
    "df.head()"
   ]
  },
  {
   "cell_type": "code",
   "execution_count": 5,
   "metadata": {},
   "outputs": [],
   "source": [
    "df['Year'] = 2011"
   ]
  },
  {
   "cell_type": "code",
   "execution_count": 6,
   "metadata": {},
   "outputs": [
    {
     "output_type": "execute_result",
     "data": {
      "text/plain": [
       "   Rank                                 Release Group       Worldwide  \\\n",
       "0     1  Harry Potter and the Deathly Hallows: Part 2  $1,341,511,219   \n",
       "1     2                Transformers: Dark of the Moon  $1,123,794,079   \n",
       "2     3   Pirates of the Caribbean: On Stranger Tides  $1,045,713,802   \n",
       "3     4     The Twilight Saga: Breaking Dawn - Part 1    $712,205,856   \n",
       "4     5          Mission: Impossible - Ghost Protocol    $694,713,380   \n",
       "5     6                               Kung Fu Panda 2    $665,692,281   \n",
       "6     7                                     Fast Five    $626,137,675   \n",
       "7     8                          The Hangover Part II    $586,764,305   \n",
       "8     9                                    The Smurfs    $563,749,323   \n",
       "9    10                                        Cars 2    $559,852,396   \n",
       "\n",
       "       Domestic      %       Foreign    %.1  Year  \n",
       "0  $381,011,219  28.4%  $960,500,000  71.6%  2011  \n",
       "1  $352,390,543  31.4%  $771,403,536  68.6%  2011  \n",
       "2  $241,071,802  23.1%  $804,642,000  76.9%  2011  \n",
       "3  $281,287,133  39.5%  $430,918,723  60.5%  2011  \n",
       "4  $209,397,903  30.1%  $485,315,477  69.9%  2011  \n",
       "5  $165,249,063  24.8%  $500,443,218  75.2%  2011  \n",
       "6  $209,837,675  33.5%  $416,300,000  66.5%  2011  \n",
       "7  $254,464,305  43.4%  $332,300,000  56.6%  2011  \n",
       "8  $142,614,158  25.3%  $421,135,165  74.7%  2011  \n",
       "9  $191,452,396  34.2%  $368,400,000  65.8%  2011  "
      ],
      "text/html": "<div>\n<style scoped>\n    .dataframe tbody tr th:only-of-type {\n        vertical-align: middle;\n    }\n\n    .dataframe tbody tr th {\n        vertical-align: top;\n    }\n\n    .dataframe thead th {\n        text-align: right;\n    }\n</style>\n<table border=\"1\" class=\"dataframe\">\n  <thead>\n    <tr style=\"text-align: right;\">\n      <th></th>\n      <th>Rank</th>\n      <th>Release Group</th>\n      <th>Worldwide</th>\n      <th>Domestic</th>\n      <th>%</th>\n      <th>Foreign</th>\n      <th>%.1</th>\n      <th>Year</th>\n    </tr>\n  </thead>\n  <tbody>\n    <tr>\n      <th>0</th>\n      <td>1</td>\n      <td>Harry Potter and the Deathly Hallows: Part 2</td>\n      <td>$1,341,511,219</td>\n      <td>$381,011,219</td>\n      <td>28.4%</td>\n      <td>$960,500,000</td>\n      <td>71.6%</td>\n      <td>2011</td>\n    </tr>\n    <tr>\n      <th>1</th>\n      <td>2</td>\n      <td>Transformers: Dark of the Moon</td>\n      <td>$1,123,794,079</td>\n      <td>$352,390,543</td>\n      <td>31.4%</td>\n      <td>$771,403,536</td>\n      <td>68.6%</td>\n      <td>2011</td>\n    </tr>\n    <tr>\n      <th>2</th>\n      <td>3</td>\n      <td>Pirates of the Caribbean: On Stranger Tides</td>\n      <td>$1,045,713,802</td>\n      <td>$241,071,802</td>\n      <td>23.1%</td>\n      <td>$804,642,000</td>\n      <td>76.9%</td>\n      <td>2011</td>\n    </tr>\n    <tr>\n      <th>3</th>\n      <td>4</td>\n      <td>The Twilight Saga: Breaking Dawn - Part 1</td>\n      <td>$712,205,856</td>\n      <td>$281,287,133</td>\n      <td>39.5%</td>\n      <td>$430,918,723</td>\n      <td>60.5%</td>\n      <td>2011</td>\n    </tr>\n    <tr>\n      <th>4</th>\n      <td>5</td>\n      <td>Mission: Impossible - Ghost Protocol</td>\n      <td>$694,713,380</td>\n      <td>$209,397,903</td>\n      <td>30.1%</td>\n      <td>$485,315,477</td>\n      <td>69.9%</td>\n      <td>2011</td>\n    </tr>\n    <tr>\n      <th>5</th>\n      <td>6</td>\n      <td>Kung Fu Panda 2</td>\n      <td>$665,692,281</td>\n      <td>$165,249,063</td>\n      <td>24.8%</td>\n      <td>$500,443,218</td>\n      <td>75.2%</td>\n      <td>2011</td>\n    </tr>\n    <tr>\n      <th>6</th>\n      <td>7</td>\n      <td>Fast Five</td>\n      <td>$626,137,675</td>\n      <td>$209,837,675</td>\n      <td>33.5%</td>\n      <td>$416,300,000</td>\n      <td>66.5%</td>\n      <td>2011</td>\n    </tr>\n    <tr>\n      <th>7</th>\n      <td>8</td>\n      <td>The Hangover Part II</td>\n      <td>$586,764,305</td>\n      <td>$254,464,305</td>\n      <td>43.4%</td>\n      <td>$332,300,000</td>\n      <td>56.6%</td>\n      <td>2011</td>\n    </tr>\n    <tr>\n      <th>8</th>\n      <td>9</td>\n      <td>The Smurfs</td>\n      <td>$563,749,323</td>\n      <td>$142,614,158</td>\n      <td>25.3%</td>\n      <td>$421,135,165</td>\n      <td>74.7%</td>\n      <td>2011</td>\n    </tr>\n    <tr>\n      <th>9</th>\n      <td>10</td>\n      <td>Cars 2</td>\n      <td>$559,852,396</td>\n      <td>$191,452,396</td>\n      <td>34.2%</td>\n      <td>$368,400,000</td>\n      <td>65.8%</td>\n      <td>2011</td>\n    </tr>\n  </tbody>\n</table>\n</div>"
     },
     "metadata": {},
     "execution_count": 6
    }
   ],
   "source": [
    "df.head(10)"
   ]
  },
  {
   "cell_type": "code",
   "execution_count": 7,
   "metadata": {},
   "outputs": [],
   "source": [
    "my_dfs = []\n",
    "csv_files = [x for x in os.listdir(DATA_DIR) if x.endswith('.csv')]\n",
    "for filename in csv_files:\n",
    "    csv_path = os.path.join(DATA_DIR, filename)\n",
    "    this_df = pd.read_csv(csv_path)\n",
    "    this_df['filename'] = filename\n",
    "    this_df['Year'] = filename.replace('.csv', \"\")[7:]\n",
    "    my_dfs.append(this_df)\n"
   ]
  },
  {
   "cell_type": "code",
   "execution_count": 8,
   "metadata": {},
   "outputs": [
    {
     "output_type": "execute_result",
     "data": {
      "text/plain": [
       "[     Rank                   Release Group       Worldwide      Domestic  \\\n",
       " 0       1          Avengers: Infinity War  $2,048,359,754  $678,815,482   \n",
       " 1       2                   Black Panther  $1,346,913,161  $700,059,566   \n",
       " 2       3  Jurassic World: Fallen Kingdom  $1,308,467,944  $417,719,760   \n",
       " 3       4                   Incredibles 2  $1,242,805,359  $608,581,744   \n",
       " 4       5                         Aquaman  $1,148,461,807  $335,061,807   \n",
       " ..    ...                             ...             ...           ...   \n",
       " 893   894                Under the Turban          $1,190        $1,190   \n",
       " 894   895                   Half Brothers          $1,100        $1,100   \n",
       " 895   896                 Invisible Hands          $1,034        $1,034   \n",
       " 896   897     TVTV: Video Revolutionaries            $812          $812   \n",
       " 897   898                    Higher Power            $528          $528   \n",
       " \n",
       "          %         Foreign    %.1         filename  Year  \n",
       " 0    33.1%  $1,369,544,272  66.9%  movies-2018.csv  2018  \n",
       " 1      52%    $646,853,595    48%  movies-2018.csv  2018  \n",
       " 2    31.9%    $890,748,184  68.1%  movies-2018.csv  2018  \n",
       " 3      49%    $634,223,615    51%  movies-2018.csv  2018  \n",
       " 4    29.2%    $813,400,000  70.8%  movies-2018.csv  2018  \n",
       " ..     ...             ...    ...              ...   ...  \n",
       " 893   100%               -      -  movies-2018.csv  2018  \n",
       " 894   100%               -      -  movies-2018.csv  2018  \n",
       " 895   100%               -      -  movies-2018.csv  2018  \n",
       " 896   100%               -      -  movies-2018.csv  2018  \n",
       " 897   100%               -      -  movies-2018.csv  2018  \n",
       " \n",
       " [898 rows x 9 columns],\n",
       "      Rank                 Release Group       Worldwide      Domestic      %  \\\n",
       " 0       1    Captain America: Civil War  $1,153,296,293  $408,084,349  35.4%   \n",
       " 1       2  Rogue One: A Star Wars Story  $1,056,057,273  $532,177,324  50.4%   \n",
       " 2       3                  Finding Dory  $1,028,570,889  $486,295,561  47.3%   \n",
       " 3       4                      Zootopia  $1,023,784,195  $341,268,248  33.3%   \n",
       " 4       5               The Jungle Book    $966,550,600  $364,001,123  37.7%   \n",
       " ..    ...                           ...             ...           ...    ...   \n",
       " 757   758               Above and Below          $1,189             -      -   \n",
       " 758   759                 Officer Downe            $850          $850   100%   \n",
       " 759   760             A Girl Like Grace            $713          $713   100%   \n",
       " 760   761                       The Pit            $560          $560   100%   \n",
       " 761   762                 Green is Gold            $455          $455   100%   \n",
       " \n",
       "           Foreign    %.1         filename  Year  \n",
       " 0    $745,211,944  64.6%  movies-2016.csv  2016  \n",
       " 1    $523,879,949  49.6%  movies-2016.csv  2016  \n",
       " 2    $542,275,328  52.7%  movies-2016.csv  2016  \n",
       " 3    $682,515,947  66.7%  movies-2016.csv  2016  \n",
       " 4    $602,549,477  62.3%  movies-2016.csv  2016  \n",
       " ..            ...    ...              ...   ...  \n",
       " 757        $1,189   100%  movies-2016.csv  2016  \n",
       " 758             -      -  movies-2016.csv  2016  \n",
       " 759             -      -  movies-2016.csv  2016  \n",
       " 760             -      -  movies-2016.csv  2016  \n",
       " 761             -      -  movies-2016.csv  2016  \n",
       " \n",
       " [762 rows x 9 columns],\n",
       "      Rank                            Release Group       Worldwide  \\\n",
       " 0       1  Star Wars: Episode VIII - The Last Jedi  $1,332,539,889   \n",
       " 1       2                     Beauty and the Beast  $1,263,521,126   \n",
       " 2       3                  The Fate of the Furious  $1,236,005,118   \n",
       " 3       4                          Despicable Me 3  $1,034,799,409   \n",
       " 4       5           Jumanji: Welcome to the Jungle    $962,077,546   \n",
       " ..    ...                                      ...             ...   \n",
       " 776   777               A Different American Dream          $1,172   \n",
       " 777   778                     The Penguin Counters            $976   \n",
       " 778   779            Extraordinary Ordinary People            $880   \n",
       " 779   780                                Antiporno            $294   \n",
       " 780   781                    Wet Woman in the Wind            $268   \n",
       " \n",
       "          Domestic      %         Foreign    %.1         filename  Year  \n",
       " 0    $620,181,382  46.5%    $712,358,507  53.5%  movies-2017.csv  2017  \n",
       " 1    $504,014,165  39.9%    $759,506,961  60.1%  movies-2017.csv  2017  \n",
       " 2    $226,008,385  18.3%  $1,009,996,733  81.7%  movies-2017.csv  2017  \n",
       " 3    $264,624,300  25.6%    $770,175,109  74.4%  movies-2017.csv  2017  \n",
       " 4    $404,515,480    42%    $557,562,066    58%  movies-2017.csv  2017  \n",
       " ..            ...    ...             ...    ...              ...   ...  \n",
       " 776        $1,172   100%               -      -  movies-2017.csv  2017  \n",
       " 777          $976   100%               -      -  movies-2017.csv  2017  \n",
       " 778          $880   100%               -      -  movies-2017.csv  2017  \n",
       " 779             -      -            $294   100%  movies-2017.csv  2017  \n",
       " 780             -      -            $268   100%  movies-2017.csv  2017  \n",
       " \n",
       " [781 rows x 9 columns],\n",
       "      Rank                                      Release Group       Worldwide  \\\n",
       " 0       1         Star Wars: Episode VII - The Force Awakens  $2,068,223,624   \n",
       " 1       2                                     Jurassic World  $1,670,400,637   \n",
       " 2       3                                          Furious 7  $1,515,047,671   \n",
       " 3       4                            Avengers: Age of Ultron  $1,402,805,868   \n",
       " 4       5                                            Minions  $1,159,398,397   \n",
       " ..    ...                                                ...             ...   \n",
       " 730   731                  It's All So Quiet 2015 Re-release            $724   \n",
       " 731   732     It's Hard Being Loved by Jerks 2015 Re-release            $697   \n",
       " 732   733                                      The 11th Hour            $510   \n",
       " 733   734                                     Paranoid Girls             $78   \n",
       " 734   735  Confession of a Child of the Century 2015 Re-r...             $74   \n",
       " \n",
       "          Domestic      %         Foreign    %.1         filename  Year  \n",
       " 0    $936,662,225  45.3%  $1,131,561,399  54.7%  movies-2015.csv  2015  \n",
       " 1    $652,270,625    39%  $1,018,130,012    61%  movies-2015.csv  2015  \n",
       " 2    $353,007,020  23.3%  $1,162,040,651  76.7%  movies-2015.csv  2015  \n",
       " 3    $459,005,868  32.7%    $943,800,000  67.3%  movies-2015.csv  2015  \n",
       " 4    $336,045,770    29%    $823,352,627    71%  movies-2015.csv  2015  \n",
       " ..            ...    ...             ...    ...              ...   ...  \n",
       " 730          $724   100%               -      -  movies-2015.csv  2015  \n",
       " 731          $697   100%               -      -  movies-2015.csv  2015  \n",
       " 732             -      -            $510   100%  movies-2015.csv  2015  \n",
       " 733           $78   100%               -      -  movies-2015.csv  2015  \n",
       " 734           $74   100%               -      -  movies-2015.csv  2015  \n",
       " \n",
       " [735 rows x 9 columns],\n",
       "      Rank                              Release Group       Worldwide  \\\n",
       " 0       1            Transformers: Age of Extinction  $1,104,054,072   \n",
       " 1       2  The Hobbit: The Battle of the Five Armies    $956,019,788   \n",
       " 2       3                    Guardians of the Galaxy    $772,776,600   \n",
       " 3       4                                 Maleficent    $758,410,378   \n",
       " 4       5      The Hunger Games: Mockingjay - Part 1    $755,356,711   \n",
       " ..    ...                                        ...             ...   \n",
       " 720   721                         A People Uncounted            $930   \n",
       " 721   722                    Jackpot 2014 Re-release            $806   \n",
       " 722   723                                   Skinless            $400   \n",
       " 723   724                               Cinemanovels            $398   \n",
       " 724   725                        Mummy, I'm A Zombie            $120   \n",
       " \n",
       "          Domestic      %       Foreign    %.1         filename  Year  \n",
       " 0    $245,439,076  22.2%  $858,614,996  77.8%  movies-2014.csv  2014  \n",
       " 1    $255,119,788  26.7%  $700,900,000  73.3%  movies-2014.csv  2014  \n",
       " 2    $333,176,600  43.1%  $439,600,000  56.9%  movies-2014.csv  2014  \n",
       " 3    $241,410,378  31.8%  $517,000,000  68.2%  movies-2014.csv  2014  \n",
       " 4    $337,135,885  44.6%  $418,220,826  55.4%  movies-2014.csv  2014  \n",
       " ..            ...    ...           ...    ...              ...   ...  \n",
       " 720          $930   100%             -      -  movies-2014.csv  2014  \n",
       " 721          $806   100%             -      -  movies-2014.csv  2014  \n",
       " 722          $400   100%             -      -  movies-2014.csv  2014  \n",
       " 723          $398   100%             -      -  movies-2014.csv  2014  \n",
       " 724          $120   100%             -      -  movies-2014.csv  2014  \n",
       " \n",
       " [725 rows x 9 columns],\n",
       "      Rank                              Release Group       Worldwide  \\\n",
       " 0       1                               The Avengers  $1,518,812,988   \n",
       " 1       2                                    Skyfall  $1,108,561,013   \n",
       " 2       3                      The Dark Knight Rises  $1,081,041,287   \n",
       " 3       4          The Hobbit: An Unexpected Journey  $1,017,003,568   \n",
       " 4       5                 Ice Age: Continental Drift    $877,244,782   \n",
       " ..    ...                                        ...             ...   \n",
       " 690   691                           The Loving Story            $700   \n",
       " 691   692                               Nature Calls            $646   \n",
       " 692   693                           Citizen Gangster            $625   \n",
       " 693   694  Gottfried Helnwein and the Dreaming Child            $601   \n",
       " 694   695                               Meeting Evil            $525   \n",
       " \n",
       "          Domestic      %       Foreign    %.1         filename  Year  \n",
       " 0    $623,357,910    41%  $895,455,078    59%  movies-2012.csv  2012  \n",
       " 1    $304,360,277  27.5%  $804,200,736  72.5%  movies-2012.csv  2012  \n",
       " 2    $448,139,099  41.5%  $632,902,188  58.5%  movies-2012.csv  2012  \n",
       " 3    $303,003,568  29.8%  $714,000,000  70.2%  movies-2012.csv  2012  \n",
       " 4    $161,321,843  18.4%  $715,922,939  81.6%  movies-2012.csv  2012  \n",
       " ..            ...    ...           ...    ...              ...   ...  \n",
       " 690          $700   100%             -      -  movies-2012.csv  2012  \n",
       " 691          $646   100%             -      -  movies-2012.csv  2012  \n",
       " 692          $625   100%             -      -  movies-2012.csv  2012  \n",
       " 693          $601   100%             -      -  movies-2012.csv  2012  \n",
       " 694          $525   100%             -      -  movies-2012.csv  2012  \n",
       " \n",
       " [695 rows x 9 columns],\n",
       "      Rank                                 Release Group       Worldwide  \\\n",
       " 0       1  Harry Potter and the Deathly Hallows: Part 2  $1,341,511,219   \n",
       " 1       2                Transformers: Dark of the Moon  $1,123,794,079   \n",
       " 2       3   Pirates of the Caribbean: On Stranger Tides  $1,045,713,802   \n",
       " 3       4     The Twilight Saga: Breaking Dawn - Part 1    $712,205,856   \n",
       " 4       5          Mission: Impossible - Ghost Protocol    $694,713,380   \n",
       " ..    ...                                           ...             ...   \n",
       " 591   592                                    The Tunnel          $1,532   \n",
       " 592   593                              Strangers Online            $968   \n",
       " 593   594                                     Abandoned            $832   \n",
       " 594   595                               Redneck Carnage            $706   \n",
       " 595   596                             A Good Day to Die            $573   \n",
       " \n",
       "          Domestic      %       Foreign    %.1         filename  Year  \n",
       " 0    $381,011,219  28.4%  $960,500,000  71.6%  movies-2011.csv  2011  \n",
       " 1    $352,390,543  31.4%  $771,403,536  68.6%  movies-2011.csv  2011  \n",
       " 2    $241,071,802  23.1%  $804,642,000  76.9%  movies-2011.csv  2011  \n",
       " 3    $281,287,133  39.5%  $430,918,723  60.5%  movies-2011.csv  2011  \n",
       " 4    $209,397,903  30.1%  $485,315,477  69.9%  movies-2011.csv  2011  \n",
       " ..            ...    ...           ...    ...              ...   ...  \n",
       " 591        $1,532   100%             -      -  movies-2011.csv  2011  \n",
       " 592          $968   100%             -      -  movies-2011.csv  2011  \n",
       " 593          $832   100%             -      -  movies-2011.csv  2011  \n",
       " 594          $706   100%             -      -  movies-2011.csv  2011  \n",
       " 595          $573   100%             -      -  movies-2011.csv  2011  \n",
       " \n",
       " [596 rows x 9 columns],\n",
       "      Rank                          Release Group       Worldwide  \\\n",
       " 0       1                      Avengers: Endgame  $2,797,800,564   \n",
       " 1       2                          The Lion King  $1,656,943,394   \n",
       " 2       3                              Frozen II  $1,450,026,933   \n",
       " 3       4              Spider-Man: Far from Home  $1,131,927,996   \n",
       " 4       5                         Captain Marvel  $1,128,274,794   \n",
       " ..    ...                                    ...             ...   \n",
       " 777   778                    The Hours and Times          $1,273   \n",
       " 778   779                          The Wolf Hour          $1,255   \n",
       " 779   780  A Fish in the Bathtub 2019 re-release          $1,237   \n",
       " 780   781                       The Untold Story            $790   \n",
       " 781   782                             The Portal            $685   \n",
       " \n",
       "          Domestic      %         Foreign    %.1         filename  Year  \n",
       " 0    $858,373,000  30.7%  $1,939,427,564  69.3%  movies-2019.csv  2019  \n",
       " 1    $543,638,043  32.8%  $1,113,305,351  67.2%  movies-2019.csv  2019  \n",
       " 2    $477,373,578  32.9%    $972,653,355  67.1%  movies-2019.csv  2019  \n",
       " 3    $390,532,085  34.5%    $741,395,911  65.5%  movies-2019.csv  2019  \n",
       " 4    $426,829,839  37.8%    $701,444,955  62.2%  movies-2019.csv  2019  \n",
       " ..            ...    ...             ...    ...              ...   ...  \n",
       " 777        $1,273   100%               -      -  movies-2019.csv  2019  \n",
       " 778             -      -          $1,255   100%  movies-2019.csv  2019  \n",
       " 779        $1,237   100%               -      -  movies-2019.csv  2019  \n",
       " 780          $790   100%               -      -  movies-2019.csv  2019  \n",
       " 781             -      -            $685   100%  movies-2019.csv  2019  \n",
       " \n",
       " [782 rows x 9 columns],\n",
       "      Rank            Release Group     Worldwide      Domestic      %  \\\n",
       " 0       1        The Eight Hundred  $461,132,912      $372,755  <0.1%   \n",
       " 1       2        Bad Boys for Life  $426,505,244  $206,305,244  48.4%   \n",
       " 2       3                    Tenet  $353,700,000   $56,300,000  15.9%   \n",
       " 3       4       Sonic the Hedgehog  $319,104,189  $146,066,470  45.8%   \n",
       " 4       5                 Dolittle  $245,229,574   $77,047,065  31.4%   \n",
       " ..    ...                      ...           ...           ...    ...   \n",
       " 292   293               Fear Pharm        $1,157        $1,157   100%   \n",
       " 293   294               The Father        $1,141             -      -   \n",
       " 294   295            Hai Tang Hong        $1,107        $1,107   100%   \n",
       " 295   296  Greater 2020 Re-release          $527          $527   100%   \n",
       " 296   297          Spaceship Earth          $362             -      -   \n",
       " \n",
       "           Foreign    %.1         filename  Year  \n",
       " 0    $460,760,157  99.9%  movies-2020.csv  2020  \n",
       " 1    $220,200,000  51.6%  movies-2020.csv  2020  \n",
       " 2    $297,400,000  84.1%  movies-2020.csv  2020  \n",
       " 3    $173,037,719  54.2%  movies-2020.csv  2020  \n",
       " 4    $168,182,509  68.6%  movies-2020.csv  2020  \n",
       " ..            ...    ...              ...   ...  \n",
       " 292             -      -  movies-2020.csv  2020  \n",
       " 293        $1,141   100%  movies-2020.csv  2020  \n",
       " 294             -      -  movies-2020.csv  2020  \n",
       " 295             -      -  movies-2020.csv  2020  \n",
       " 296          $362   100%  movies-2020.csv  2020  \n",
       " \n",
       " [297 rows x 9 columns],\n",
       "      Rank                        Release Group       Worldwide      Domestic  \\\n",
       " 0       1                               Frozen  $1,280,802,282  $400,738,009   \n",
       " 1       2                           Iron Man 3  $1,214,811,252  $409,013,994   \n",
       " 2       3                      Despicable Me 2    $970,766,005  $368,065,385   \n",
       " 3       4  The Hobbit: The Desolation of Smaug    $958,366,855  $258,366,855   \n",
       " 4       5      The Hunger Games: Catching Fire    $865,011,746  $424,668,047   \n",
       " ..    ...                                  ...             ...           ...   \n",
       " 701   702                                Veer!          $1,132        $1,132   \n",
       " 702   703                              Absence          $1,031        $1,031   \n",
       " 703   704                             Remnants          $1,022        $1,022   \n",
       " 704   705                                Syrup            $663          $663   \n",
       " 705   706                  Triumph of the Wall            $476          $476   \n",
       " \n",
       "          %       Foreign    %.1         filename  Year  \n",
       " 0    31.3%  $880,064,273  68.7%  movies-2013.csv  2013  \n",
       " 1    33.7%  $805,797,258  66.3%  movies-2013.csv  2013  \n",
       " 2    37.9%  $602,700,620  62.1%  movies-2013.csv  2013  \n",
       " 3      27%  $700,000,000    73%  movies-2013.csv  2013  \n",
       " 4    49.1%  $440,343,699  50.9%  movies-2013.csv  2013  \n",
       " ..     ...           ...    ...              ...   ...  \n",
       " 701   100%             -      -  movies-2013.csv  2013  \n",
       " 702   100%             -      -  movies-2013.csv  2013  \n",
       " 703   100%             -      -  movies-2013.csv  2013  \n",
       " 704   100%             -      -  movies-2013.csv  2013  \n",
       " 705   100%             -      -  movies-2013.csv  2013  \n",
       " \n",
       " [706 rows x 9 columns]]"
      ]
     },
     "metadata": {},
     "execution_count": 8
    }
   ],
   "source": [
    "my_dfs"
   ]
  },
  {
   "cell_type": "code",
   "execution_count": 10,
   "metadata": {},
   "outputs": [
    {
     "output_type": "execute_result",
     "data": {
      "text/plain": [
       "   Rank                   Release Group       Worldwide      Domestic      %  \\\n",
       "0     1          Avengers: Infinity War  $2,048,359,754  $678,815,482  33.1%   \n",
       "1     2                   Black Panther  $1,346,913,161  $700,059,566    52%   \n",
       "2     3  Jurassic World: Fallen Kingdom  $1,308,467,944  $417,719,760  31.9%   \n",
       "3     4                   Incredibles 2  $1,242,805,359  $608,581,744    49%   \n",
       "4     5                         Aquaman  $1,148,461,807  $335,061,807  29.2%   \n",
       "\n",
       "          Foreign    %.1         filename  Year  \n",
       "0  $1,369,544,272  66.9%  movies-2018.csv  2018  \n",
       "1    $646,853,595    48%  movies-2018.csv  2018  \n",
       "2    $890,748,184  68.1%  movies-2018.csv  2018  \n",
       "3    $634,223,615    51%  movies-2018.csv  2018  \n",
       "4    $813,400,000  70.8%  movies-2018.csv  2018  "
      ],
      "text/html": "<div>\n<style scoped>\n    .dataframe tbody tr th:only-of-type {\n        vertical-align: middle;\n    }\n\n    .dataframe tbody tr th {\n        vertical-align: top;\n    }\n\n    .dataframe thead th {\n        text-align: right;\n    }\n</style>\n<table border=\"1\" class=\"dataframe\">\n  <thead>\n    <tr style=\"text-align: right;\">\n      <th></th>\n      <th>Rank</th>\n      <th>Release Group</th>\n      <th>Worldwide</th>\n      <th>Domestic</th>\n      <th>%</th>\n      <th>Foreign</th>\n      <th>%.1</th>\n      <th>filename</th>\n      <th>Year</th>\n    </tr>\n  </thead>\n  <tbody>\n    <tr>\n      <th>0</th>\n      <td>1</td>\n      <td>Avengers: Infinity War</td>\n      <td>$2,048,359,754</td>\n      <td>$678,815,482</td>\n      <td>33.1%</td>\n      <td>$1,369,544,272</td>\n      <td>66.9%</td>\n      <td>movies-2018.csv</td>\n      <td>2018</td>\n    </tr>\n    <tr>\n      <th>1</th>\n      <td>2</td>\n      <td>Black Panther</td>\n      <td>$1,346,913,161</td>\n      <td>$700,059,566</td>\n      <td>52%</td>\n      <td>$646,853,595</td>\n      <td>48%</td>\n      <td>movies-2018.csv</td>\n      <td>2018</td>\n    </tr>\n    <tr>\n      <th>2</th>\n      <td>3</td>\n      <td>Jurassic World: Fallen Kingdom</td>\n      <td>$1,308,467,944</td>\n      <td>$417,719,760</td>\n      <td>31.9%</td>\n      <td>$890,748,184</td>\n      <td>68.1%</td>\n      <td>movies-2018.csv</td>\n      <td>2018</td>\n    </tr>\n    <tr>\n      <th>3</th>\n      <td>4</td>\n      <td>Incredibles 2</td>\n      <td>$1,242,805,359</td>\n      <td>$608,581,744</td>\n      <td>49%</td>\n      <td>$634,223,615</td>\n      <td>51%</td>\n      <td>movies-2018.csv</td>\n      <td>2018</td>\n    </tr>\n    <tr>\n      <th>4</th>\n      <td>5</td>\n      <td>Aquaman</td>\n      <td>$1,148,461,807</td>\n      <td>$335,061,807</td>\n      <td>29.2%</td>\n      <td>$813,400,000</td>\n      <td>70.8%</td>\n      <td>movies-2018.csv</td>\n      <td>2018</td>\n    </tr>\n  </tbody>\n</table>\n</div>"
     },
     "metadata": {},
     "execution_count": 10
    }
   ],
   "source": [
    "entire_df = pd.concat(my_dfs)\n",
    "entire_df.head()"
   ]
  },
  {
   "cell_type": "code",
   "execution_count": 11,
   "metadata": {},
   "outputs": [
    {
     "output_type": "execute_result",
     "data": {
      "text/plain": [
       "     Rank        Release Group Worldwide Domestic     % Foreign %.1  \\\n",
       "701   702                Veer!    $1,132   $1,132  100%       -   -   \n",
       "702   703              Absence    $1,031   $1,031  100%       -   -   \n",
       "703   704             Remnants    $1,022   $1,022  100%       -   -   \n",
       "704   705                Syrup      $663     $663  100%       -   -   \n",
       "705   706  Triumph of the Wall      $476     $476  100%       -   -   \n",
       "\n",
       "            filename  Year  \n",
       "701  movies-2013.csv  2013  \n",
       "702  movies-2013.csv  2013  \n",
       "703  movies-2013.csv  2013  \n",
       "704  movies-2013.csv  2013  \n",
       "705  movies-2013.csv  2013  "
      ],
      "text/html": "<div>\n<style scoped>\n    .dataframe tbody tr th:only-of-type {\n        vertical-align: middle;\n    }\n\n    .dataframe tbody tr th {\n        vertical-align: top;\n    }\n\n    .dataframe thead th {\n        text-align: right;\n    }\n</style>\n<table border=\"1\" class=\"dataframe\">\n  <thead>\n    <tr style=\"text-align: right;\">\n      <th></th>\n      <th>Rank</th>\n      <th>Release Group</th>\n      <th>Worldwide</th>\n      <th>Domestic</th>\n      <th>%</th>\n      <th>Foreign</th>\n      <th>%.1</th>\n      <th>filename</th>\n      <th>Year</th>\n    </tr>\n  </thead>\n  <tbody>\n    <tr>\n      <th>701</th>\n      <td>702</td>\n      <td>Veer!</td>\n      <td>$1,132</td>\n      <td>$1,132</td>\n      <td>100%</td>\n      <td>-</td>\n      <td>-</td>\n      <td>movies-2013.csv</td>\n      <td>2013</td>\n    </tr>\n    <tr>\n      <th>702</th>\n      <td>703</td>\n      <td>Absence</td>\n      <td>$1,031</td>\n      <td>$1,031</td>\n      <td>100%</td>\n      <td>-</td>\n      <td>-</td>\n      <td>movies-2013.csv</td>\n      <td>2013</td>\n    </tr>\n    <tr>\n      <th>703</th>\n      <td>704</td>\n      <td>Remnants</td>\n      <td>$1,022</td>\n      <td>$1,022</td>\n      <td>100%</td>\n      <td>-</td>\n      <td>-</td>\n      <td>movies-2013.csv</td>\n      <td>2013</td>\n    </tr>\n    <tr>\n      <th>704</th>\n      <td>705</td>\n      <td>Syrup</td>\n      <td>$663</td>\n      <td>$663</td>\n      <td>100%</td>\n      <td>-</td>\n      <td>-</td>\n      <td>movies-2013.csv</td>\n      <td>2013</td>\n    </tr>\n    <tr>\n      <th>705</th>\n      <td>706</td>\n      <td>Triumph of the Wall</td>\n      <td>$476</td>\n      <td>$476</td>\n      <td>100%</td>\n      <td>-</td>\n      <td>-</td>\n      <td>movies-2013.csv</td>\n      <td>2013</td>\n    </tr>\n  </tbody>\n</table>\n</div>"
     },
     "metadata": {},
     "execution_count": 11
    }
   ],
   "source": [
    "entire_df.tail()"
   ]
  },
  {
   "cell_type": "code",
   "execution_count": 13,
   "metadata": {},
   "outputs": [],
   "source": [
    "CACHE_DIR = os.path.join(BASE_DIR, 'cache')\n",
    "os.makedirs(CACHE_DIR, exist_ok=True)\n",
    "dataset = os.path.join(CACHE_DIR, 'movies-boxoffice-dataset.csv')\n",
    "entire_df.to_csv(dataset, index=False)"
   ]
  },
  {
   "source": [
    "## Cleanup DATA"
   ],
   "cell_type": "markdown",
   "metadata": {}
  },
  {
   "cell_type": "code",
   "execution_count": null,
   "metadata": {},
   "outputs": [],
   "source": []
  }
 ]
}