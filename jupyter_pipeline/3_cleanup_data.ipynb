{
 "metadata": {
  "language_info": {
   "codemirror_mode": {
    "name": "ipython",
    "version": 3
   },
   "file_extension": ".py",
   "mimetype": "text/x-python",
   "name": "python",
   "nbconvert_exporter": "python",
   "pygments_lexer": "ipython3",
   "version": "3.8.3-final"
  },
  "orig_nbformat": 2,
  "kernelspec": {
   "name": "python3",
   "display_name": "Python 3"
  }
 },
 "nbformat": 4,
 "nbformat_minor": 2,
 "cells": [
  {
   "cell_type": "code",
   "execution_count": 1,
   "metadata": {},
   "outputs": [],
   "source": [
    "import os\n",
    "import pandas as pd"
   ]
  },
  {
   "cell_type": "code",
   "execution_count": 2,
   "metadata": {},
   "outputs": [
    {
     "output_type": "execute_result",
     "data": {
      "text/plain": [
       "'/home/kumar/Coding/jupyter_pipeline'"
      ]
     },
     "metadata": {},
     "execution_count": 2
    }
   ],
   "source": [
    "cwd = os.getcwd()\n",
    "BASE_DIR = os.path.abspath(cwd)\n",
    "DATA_DIR = os.path.join(BASE_DIR, 'data')\n",
    "BASE_DIR"
   ]
  },
  {
   "cell_type": "code",
   "execution_count": 3,
   "metadata": {},
   "outputs": [
    {
     "output_type": "execute_result",
     "data": {
      "text/plain": [
       "'/home/kumar/Coding/jupyter_pipeline/cache/movies-boxoffice-dataset.csv'"
      ]
     },
     "metadata": {},
     "execution_count": 3
    }
   ],
   "source": [
    "CACHE_DIR = os.path.join(BASE_DIR, 'cache')\n",
    "working_file = os.path.join(CACHE_DIR, 'movies-boxoffice-dataset.csv')\n",
    "working_file"
   ]
  },
  {
   "cell_type": "code",
   "execution_count": 4,
   "metadata": {},
   "outputs": [
    {
     "output_type": "execute_result",
     "data": {
      "text/plain": [
       "    Rank                   Release Group       Worldwide      Domestic      %  \\\n",
       "0      1          Avengers: Infinity War  $2,048,359,754  $678,815,482  33.1%   \n",
       "1      2                   Black Panther  $1,346,913,161  $700,059,566    52%   \n",
       "2      3  Jurassic World: Fallen Kingdom  $1,308,467,944  $417,719,760  31.9%   \n",
       "3      4                   Incredibles 2  $1,242,805,359  $608,581,744    49%   \n",
       "4      5                         Aquaman  $1,148,461,807  $335,061,807  29.2%   \n",
       "..   ...                             ...             ...           ...    ...   \n",
       "95    96                    Isle of Dogs     $64,241,499   $32,015,231  49.8%   \n",
       "96    97                       Andhadhun     $62,475,342    $1,193,046   1.9%   \n",
       "97    98                          Adrift     $59,945,012   $31,445,012  52.5%   \n",
       "98    99              The 15:17 to Paris     $57,076,286   $36,276,286  63.6%   \n",
       "99   100                       Early Man     $54,622,814    $8,267,544  15.1%   \n",
       "\n",
       "           Foreign    %.1         filename  Year  \n",
       "0   $1,369,544,272  66.9%  movies-2018.csv  2018  \n",
       "1     $646,853,595    48%  movies-2018.csv  2018  \n",
       "2     $890,748,184  68.1%  movies-2018.csv  2018  \n",
       "3     $634,223,615    51%  movies-2018.csv  2018  \n",
       "4     $813,400,000  70.8%  movies-2018.csv  2018  \n",
       "..             ...    ...              ...   ...  \n",
       "95     $32,226,268  50.2%  movies-2018.csv  2018  \n",
       "96     $61,282,296  98.1%  movies-2018.csv  2018  \n",
       "97     $28,500,000  47.5%  movies-2018.csv  2018  \n",
       "98     $20,800,000  36.4%  movies-2018.csv  2018  \n",
       "99     $46,355,270  84.9%  movies-2018.csv  2018  \n",
       "\n",
       "[100 rows x 9 columns]"
      ],
      "text/html": "<div>\n<style scoped>\n    .dataframe tbody tr th:only-of-type {\n        vertical-align: middle;\n    }\n\n    .dataframe tbody tr th {\n        vertical-align: top;\n    }\n\n    .dataframe thead th {\n        text-align: right;\n    }\n</style>\n<table border=\"1\" class=\"dataframe\">\n  <thead>\n    <tr style=\"text-align: right;\">\n      <th></th>\n      <th>Rank</th>\n      <th>Release Group</th>\n      <th>Worldwide</th>\n      <th>Domestic</th>\n      <th>%</th>\n      <th>Foreign</th>\n      <th>%.1</th>\n      <th>filename</th>\n      <th>Year</th>\n    </tr>\n  </thead>\n  <tbody>\n    <tr>\n      <th>0</th>\n      <td>1</td>\n      <td>Avengers: Infinity War</td>\n      <td>$2,048,359,754</td>\n      <td>$678,815,482</td>\n      <td>33.1%</td>\n      <td>$1,369,544,272</td>\n      <td>66.9%</td>\n      <td>movies-2018.csv</td>\n      <td>2018</td>\n    </tr>\n    <tr>\n      <th>1</th>\n      <td>2</td>\n      <td>Black Panther</td>\n      <td>$1,346,913,161</td>\n      <td>$700,059,566</td>\n      <td>52%</td>\n      <td>$646,853,595</td>\n      <td>48%</td>\n      <td>movies-2018.csv</td>\n      <td>2018</td>\n    </tr>\n    <tr>\n      <th>2</th>\n      <td>3</td>\n      <td>Jurassic World: Fallen Kingdom</td>\n      <td>$1,308,467,944</td>\n      <td>$417,719,760</td>\n      <td>31.9%</td>\n      <td>$890,748,184</td>\n      <td>68.1%</td>\n      <td>movies-2018.csv</td>\n      <td>2018</td>\n    </tr>\n    <tr>\n      <th>3</th>\n      <td>4</td>\n      <td>Incredibles 2</td>\n      <td>$1,242,805,359</td>\n      <td>$608,581,744</td>\n      <td>49%</td>\n      <td>$634,223,615</td>\n      <td>51%</td>\n      <td>movies-2018.csv</td>\n      <td>2018</td>\n    </tr>\n    <tr>\n      <th>4</th>\n      <td>5</td>\n      <td>Aquaman</td>\n      <td>$1,148,461,807</td>\n      <td>$335,061,807</td>\n      <td>29.2%</td>\n      <td>$813,400,000</td>\n      <td>70.8%</td>\n      <td>movies-2018.csv</td>\n      <td>2018</td>\n    </tr>\n    <tr>\n      <th>...</th>\n      <td>...</td>\n      <td>...</td>\n      <td>...</td>\n      <td>...</td>\n      <td>...</td>\n      <td>...</td>\n      <td>...</td>\n      <td>...</td>\n      <td>...</td>\n    </tr>\n    <tr>\n      <th>95</th>\n      <td>96</td>\n      <td>Isle of Dogs</td>\n      <td>$64,241,499</td>\n      <td>$32,015,231</td>\n      <td>49.8%</td>\n      <td>$32,226,268</td>\n      <td>50.2%</td>\n      <td>movies-2018.csv</td>\n      <td>2018</td>\n    </tr>\n    <tr>\n      <th>96</th>\n      <td>97</td>\n      <td>Andhadhun</td>\n      <td>$62,475,342</td>\n      <td>$1,193,046</td>\n      <td>1.9%</td>\n      <td>$61,282,296</td>\n      <td>98.1%</td>\n      <td>movies-2018.csv</td>\n      <td>2018</td>\n    </tr>\n    <tr>\n      <th>97</th>\n      <td>98</td>\n      <td>Adrift</td>\n      <td>$59,945,012</td>\n      <td>$31,445,012</td>\n      <td>52.5%</td>\n      <td>$28,500,000</td>\n      <td>47.5%</td>\n      <td>movies-2018.csv</td>\n      <td>2018</td>\n    </tr>\n    <tr>\n      <th>98</th>\n      <td>99</td>\n      <td>The 15:17 to Paris</td>\n      <td>$57,076,286</td>\n      <td>$36,276,286</td>\n      <td>63.6%</td>\n      <td>$20,800,000</td>\n      <td>36.4%</td>\n      <td>movies-2018.csv</td>\n      <td>2018</td>\n    </tr>\n    <tr>\n      <th>99</th>\n      <td>100</td>\n      <td>Early Man</td>\n      <td>$54,622,814</td>\n      <td>$8,267,544</td>\n      <td>15.1%</td>\n      <td>$46,355,270</td>\n      <td>84.9%</td>\n      <td>movies-2018.csv</td>\n      <td>2018</td>\n    </tr>\n  </tbody>\n</table>\n<p>100 rows × 9 columns</p>\n</div>"
     },
     "metadata": {},
     "execution_count": 4
    }
   ],
   "source": [
    "df = pd.read_csv(working_file)\n",
    "df.head(100)"
   ]
  },
  {
   "cell_type": "code",
   "execution_count": 5,
   "metadata": {},
   "outputs": [
    {
     "output_type": "execute_result",
     "data": {
      "text/plain": [
       "   Rank                   Release Group       Worldwide      Domestic      %  \\\n",
       "0    -1          Avengers: Infinity War  $2,048,359,754  $678,815,482  33.1%   \n",
       "1    -1                   Black Panther  $1,346,913,161  $700,059,566    52%   \n",
       "2    -1  Jurassic World: Fallen Kingdom  $1,308,467,944  $417,719,760  31.9%   \n",
       "3    -1                   Incredibles 2  $1,242,805,359  $608,581,744    49%   \n",
       "4    -1                         Aquaman  $1,148,461,807  $335,061,807  29.2%   \n",
       "\n",
       "          Foreign    %.1         filename  Year  \n",
       "0  $1,369,544,272  66.9%  movies-2018.csv  2018  \n",
       "1    $646,853,595    48%  movies-2018.csv  2018  \n",
       "2    $890,748,184  68.1%  movies-2018.csv  2018  \n",
       "3    $634,223,615    51%  movies-2018.csv  2018  \n",
       "4    $813,400,000  70.8%  movies-2018.csv  2018  "
      ],
      "text/html": "<div>\n<style scoped>\n    .dataframe tbody tr th:only-of-type {\n        vertical-align: middle;\n    }\n\n    .dataframe tbody tr th {\n        vertical-align: top;\n    }\n\n    .dataframe thead th {\n        text-align: right;\n    }\n</style>\n<table border=\"1\" class=\"dataframe\">\n  <thead>\n    <tr style=\"text-align: right;\">\n      <th></th>\n      <th>Rank</th>\n      <th>Release Group</th>\n      <th>Worldwide</th>\n      <th>Domestic</th>\n      <th>%</th>\n      <th>Foreign</th>\n      <th>%.1</th>\n      <th>filename</th>\n      <th>Year</th>\n    </tr>\n  </thead>\n  <tbody>\n    <tr>\n      <th>0</th>\n      <td>-1</td>\n      <td>Avengers: Infinity War</td>\n      <td>$2,048,359,754</td>\n      <td>$678,815,482</td>\n      <td>33.1%</td>\n      <td>$1,369,544,272</td>\n      <td>66.9%</td>\n      <td>movies-2018.csv</td>\n      <td>2018</td>\n    </tr>\n    <tr>\n      <th>1</th>\n      <td>-1</td>\n      <td>Black Panther</td>\n      <td>$1,346,913,161</td>\n      <td>$700,059,566</td>\n      <td>52%</td>\n      <td>$646,853,595</td>\n      <td>48%</td>\n      <td>movies-2018.csv</td>\n      <td>2018</td>\n    </tr>\n    <tr>\n      <th>2</th>\n      <td>-1</td>\n      <td>Jurassic World: Fallen Kingdom</td>\n      <td>$1,308,467,944</td>\n      <td>$417,719,760</td>\n      <td>31.9%</td>\n      <td>$890,748,184</td>\n      <td>68.1%</td>\n      <td>movies-2018.csv</td>\n      <td>2018</td>\n    </tr>\n    <tr>\n      <th>3</th>\n      <td>-1</td>\n      <td>Incredibles 2</td>\n      <td>$1,242,805,359</td>\n      <td>$608,581,744</td>\n      <td>49%</td>\n      <td>$634,223,615</td>\n      <td>51%</td>\n      <td>movies-2018.csv</td>\n      <td>2018</td>\n    </tr>\n    <tr>\n      <th>4</th>\n      <td>-1</td>\n      <td>Aquaman</td>\n      <td>$1,148,461,807</td>\n      <td>$335,061,807</td>\n      <td>29.2%</td>\n      <td>$813,400,000</td>\n      <td>70.8%</td>\n      <td>movies-2018.csv</td>\n      <td>2018</td>\n    </tr>\n  </tbody>\n</table>\n</div>"
     },
     "metadata": {},
     "execution_count": 5
    }
   ],
   "source": [
    "df['Rank'] = -1\n",
    "df.head()"
   ]
  },
  {
   "cell_type": "code",
   "execution_count": 6,
   "metadata": {},
   "outputs": [
    {
     "output_type": "execute_result",
     "data": {
      "text/plain": [
       "   Rank                   Release Group       Worldwide      Domestic      %  \\\n",
       "0    -1          Avengers: Infinity War  $2,048,359,754  $678,815,482  33.1%   \n",
       "1    -1                   Black Panther  $1,346,913,161  $700,059,566    52%   \n",
       "2    -1  Jurassic World: Fallen Kingdom  $1,308,467,944  $417,719,760  31.9%   \n",
       "3    -1                   Incredibles 2  $1,242,805,359  $608,581,744    49%   \n",
       "4    -1                         Aquaman  $1,148,461,807  $335,061,807  29.2%   \n",
       "\n",
       "          Foreign    %.1         filename  Year Domestic % Foreign %  \n",
       "0  $1,369,544,272  66.9%  movies-2018.csv  2018      33.1%     66.9%  \n",
       "1    $646,853,595    48%  movies-2018.csv  2018        52%       48%  \n",
       "2    $890,748,184  68.1%  movies-2018.csv  2018      31.9%     68.1%  \n",
       "3    $634,223,615    51%  movies-2018.csv  2018        49%       51%  \n",
       "4    $813,400,000  70.8%  movies-2018.csv  2018      29.2%     70.8%  "
      ],
      "text/html": "<div>\n<style scoped>\n    .dataframe tbody tr th:only-of-type {\n        vertical-align: middle;\n    }\n\n    .dataframe tbody tr th {\n        vertical-align: top;\n    }\n\n    .dataframe thead th {\n        text-align: right;\n    }\n</style>\n<table border=\"1\" class=\"dataframe\">\n  <thead>\n    <tr style=\"text-align: right;\">\n      <th></th>\n      <th>Rank</th>\n      <th>Release Group</th>\n      <th>Worldwide</th>\n      <th>Domestic</th>\n      <th>%</th>\n      <th>Foreign</th>\n      <th>%.1</th>\n      <th>filename</th>\n      <th>Year</th>\n      <th>Domestic %</th>\n      <th>Foreign %</th>\n    </tr>\n  </thead>\n  <tbody>\n    <tr>\n      <th>0</th>\n      <td>-1</td>\n      <td>Avengers: Infinity War</td>\n      <td>$2,048,359,754</td>\n      <td>$678,815,482</td>\n      <td>33.1%</td>\n      <td>$1,369,544,272</td>\n      <td>66.9%</td>\n      <td>movies-2018.csv</td>\n      <td>2018</td>\n      <td>33.1%</td>\n      <td>66.9%</td>\n    </tr>\n    <tr>\n      <th>1</th>\n      <td>-1</td>\n      <td>Black Panther</td>\n      <td>$1,346,913,161</td>\n      <td>$700,059,566</td>\n      <td>52%</td>\n      <td>$646,853,595</td>\n      <td>48%</td>\n      <td>movies-2018.csv</td>\n      <td>2018</td>\n      <td>52%</td>\n      <td>48%</td>\n    </tr>\n    <tr>\n      <th>2</th>\n      <td>-1</td>\n      <td>Jurassic World: Fallen Kingdom</td>\n      <td>$1,308,467,944</td>\n      <td>$417,719,760</td>\n      <td>31.9%</td>\n      <td>$890,748,184</td>\n      <td>68.1%</td>\n      <td>movies-2018.csv</td>\n      <td>2018</td>\n      <td>31.9%</td>\n      <td>68.1%</td>\n    </tr>\n    <tr>\n      <th>3</th>\n      <td>-1</td>\n      <td>Incredibles 2</td>\n      <td>$1,242,805,359</td>\n      <td>$608,581,744</td>\n      <td>49%</td>\n      <td>$634,223,615</td>\n      <td>51%</td>\n      <td>movies-2018.csv</td>\n      <td>2018</td>\n      <td>49%</td>\n      <td>51%</td>\n    </tr>\n    <tr>\n      <th>4</th>\n      <td>-1</td>\n      <td>Aquaman</td>\n      <td>$1,148,461,807</td>\n      <td>$335,061,807</td>\n      <td>29.2%</td>\n      <td>$813,400,000</td>\n      <td>70.8%</td>\n      <td>movies-2018.csv</td>\n      <td>2018</td>\n      <td>29.2%</td>\n      <td>70.8%</td>\n    </tr>\n  </tbody>\n</table>\n</div>"
     },
     "metadata": {},
     "execution_count": 6
    }
   ],
   "source": [
    "df['Domestic %'] = df['%']\n",
    "df['Foreign %'] = df['%.1']\n",
    "df.head()"
   ]
  },
  {
   "cell_type": "code",
   "execution_count": 7,
   "metadata": {},
   "outputs": [
    {
     "output_type": "execute_result",
     "data": {
      "text/plain": [
       "      Rank        Release Group Worldwide Domestic Foreign         filename  \\\n",
       "6972    -1                Veer!    $1,132   $1,132       -  movies-2013.csv   \n",
       "6973    -1              Absence    $1,031   $1,031       -  movies-2013.csv   \n",
       "6974    -1             Remnants    $1,022   $1,022       -  movies-2013.csv   \n",
       "6975    -1                Syrup      $663     $663       -  movies-2013.csv   \n",
       "6976    -1  Triumph of the Wall      $476     $476       -  movies-2013.csv   \n",
       "\n",
       "      Year Domestic % Foreign %  \n",
       "6972  2013       100%         -  \n",
       "6973  2013       100%         -  \n",
       "6974  2013       100%         -  \n",
       "6975  2013       100%         -  \n",
       "6976  2013       100%         -  "
      ],
      "text/html": "<div>\n<style scoped>\n    .dataframe tbody tr th:only-of-type {\n        vertical-align: middle;\n    }\n\n    .dataframe tbody tr th {\n        vertical-align: top;\n    }\n\n    .dataframe thead th {\n        text-align: right;\n    }\n</style>\n<table border=\"1\" class=\"dataframe\">\n  <thead>\n    <tr style=\"text-align: right;\">\n      <th></th>\n      <th>Rank</th>\n      <th>Release Group</th>\n      <th>Worldwide</th>\n      <th>Domestic</th>\n      <th>Foreign</th>\n      <th>filename</th>\n      <th>Year</th>\n      <th>Domestic %</th>\n      <th>Foreign %</th>\n    </tr>\n  </thead>\n  <tbody>\n    <tr>\n      <th>6972</th>\n      <td>-1</td>\n      <td>Veer!</td>\n      <td>$1,132</td>\n      <td>$1,132</td>\n      <td>-</td>\n      <td>movies-2013.csv</td>\n      <td>2013</td>\n      <td>100%</td>\n      <td>-</td>\n    </tr>\n    <tr>\n      <th>6973</th>\n      <td>-1</td>\n      <td>Absence</td>\n      <td>$1,031</td>\n      <td>$1,031</td>\n      <td>-</td>\n      <td>movies-2013.csv</td>\n      <td>2013</td>\n      <td>100%</td>\n      <td>-</td>\n    </tr>\n    <tr>\n      <th>6974</th>\n      <td>-1</td>\n      <td>Remnants</td>\n      <td>$1,022</td>\n      <td>$1,022</td>\n      <td>-</td>\n      <td>movies-2013.csv</td>\n      <td>2013</td>\n      <td>100%</td>\n      <td>-</td>\n    </tr>\n    <tr>\n      <th>6975</th>\n      <td>-1</td>\n      <td>Syrup</td>\n      <td>$663</td>\n      <td>$663</td>\n      <td>-</td>\n      <td>movies-2013.csv</td>\n      <td>2013</td>\n      <td>100%</td>\n      <td>-</td>\n    </tr>\n    <tr>\n      <th>6976</th>\n      <td>-1</td>\n      <td>Triumph of the Wall</td>\n      <td>$476</td>\n      <td>$476</td>\n      <td>-</td>\n      <td>movies-2013.csv</td>\n      <td>2013</td>\n      <td>100%</td>\n      <td>-</td>\n    </tr>\n  </tbody>\n</table>\n</div>"
     },
     "metadata": {},
     "execution_count": 7
    }
   ],
   "source": [
    "df.drop(columns=['%', '%.1'], inplace=True)\n",
    "df.tail()"
   ]
  },
  {
   "cell_type": "code",
   "execution_count": 8,
   "metadata": {},
   "outputs": [],
   "source": [
    "def currency_str_to_int(cur_value):\n",
    "    try:\n",
    "        int_val = int(cur_value)\n",
    "    except:\n",
    "        int_val = 0\n",
    "    return int_val\n",
    "\n",
    "to_clean_cols = ['Worldwide', 'Domestic', 'Foreign']\n",
    "def clean_col(row):\n",
    "    for col in to_clean_cols:\n",
    "        row[col] = row[col].replace('$','').replace(',', '')\n",
    "        row[col] = currency_str_to_int(row[col])\n",
    "    return row\n",
    "\n",
    "cleaned_df = df.apply(clean_col, axis=1)"
   ]
  },
  {
   "cell_type": "code",
   "execution_count": 9,
   "metadata": {},
   "outputs": [
    {
     "output_type": "execute_result",
     "data": {
      "text/plain": [
       "      Rank                   Release Group   Worldwide   Domestic     Foreign  \\\n",
       "0       -1          Avengers: Infinity War  2048359754  678815482  1369544272   \n",
       "1       -1                   Black Panther  1346913161  700059566   646853595   \n",
       "2       -1  Jurassic World: Fallen Kingdom  1308467944  417719760   890748184   \n",
       "3       -1                   Incredibles 2  1242805359  608581744   634223615   \n",
       "4       -1                         Aquaman  1148461807  335061807   813400000   \n",
       "...    ...                             ...         ...        ...         ...   \n",
       "6972    -1                           Veer!        1132       1132           0   \n",
       "6973    -1                         Absence        1031       1031           0   \n",
       "6974    -1                        Remnants        1022       1022           0   \n",
       "6975    -1                           Syrup         663        663           0   \n",
       "6976    -1             Triumph of the Wall         476        476           0   \n",
       "\n",
       "             filename  Year Domestic % Foreign %  \n",
       "0     movies-2018.csv  2018      33.1%     66.9%  \n",
       "1     movies-2018.csv  2018        52%       48%  \n",
       "2     movies-2018.csv  2018      31.9%     68.1%  \n",
       "3     movies-2018.csv  2018        49%       51%  \n",
       "4     movies-2018.csv  2018      29.2%     70.8%  \n",
       "...               ...   ...        ...       ...  \n",
       "6972  movies-2013.csv  2013       100%         -  \n",
       "6973  movies-2013.csv  2013       100%         -  \n",
       "6974  movies-2013.csv  2013       100%         -  \n",
       "6975  movies-2013.csv  2013       100%         -  \n",
       "6976  movies-2013.csv  2013       100%         -  \n",
       "\n",
       "[6977 rows x 9 columns]"
      ],
      "text/html": "<div>\n<style scoped>\n    .dataframe tbody tr th:only-of-type {\n        vertical-align: middle;\n    }\n\n    .dataframe tbody tr th {\n        vertical-align: top;\n    }\n\n    .dataframe thead th {\n        text-align: right;\n    }\n</style>\n<table border=\"1\" class=\"dataframe\">\n  <thead>\n    <tr style=\"text-align: right;\">\n      <th></th>\n      <th>Rank</th>\n      <th>Release Group</th>\n      <th>Worldwide</th>\n      <th>Domestic</th>\n      <th>Foreign</th>\n      <th>filename</th>\n      <th>Year</th>\n      <th>Domestic %</th>\n      <th>Foreign %</th>\n    </tr>\n  </thead>\n  <tbody>\n    <tr>\n      <th>0</th>\n      <td>-1</td>\n      <td>Avengers: Infinity War</td>\n      <td>2048359754</td>\n      <td>678815482</td>\n      <td>1369544272</td>\n      <td>movies-2018.csv</td>\n      <td>2018</td>\n      <td>33.1%</td>\n      <td>66.9%</td>\n    </tr>\n    <tr>\n      <th>1</th>\n      <td>-1</td>\n      <td>Black Panther</td>\n      <td>1346913161</td>\n      <td>700059566</td>\n      <td>646853595</td>\n      <td>movies-2018.csv</td>\n      <td>2018</td>\n      <td>52%</td>\n      <td>48%</td>\n    </tr>\n    <tr>\n      <th>2</th>\n      <td>-1</td>\n      <td>Jurassic World: Fallen Kingdom</td>\n      <td>1308467944</td>\n      <td>417719760</td>\n      <td>890748184</td>\n      <td>movies-2018.csv</td>\n      <td>2018</td>\n      <td>31.9%</td>\n      <td>68.1%</td>\n    </tr>\n    <tr>\n      <th>3</th>\n      <td>-1</td>\n      <td>Incredibles 2</td>\n      <td>1242805359</td>\n      <td>608581744</td>\n      <td>634223615</td>\n      <td>movies-2018.csv</td>\n      <td>2018</td>\n      <td>49%</td>\n      <td>51%</td>\n    </tr>\n    <tr>\n      <th>4</th>\n      <td>-1</td>\n      <td>Aquaman</td>\n      <td>1148461807</td>\n      <td>335061807</td>\n      <td>813400000</td>\n      <td>movies-2018.csv</td>\n      <td>2018</td>\n      <td>29.2%</td>\n      <td>70.8%</td>\n    </tr>\n    <tr>\n      <th>...</th>\n      <td>...</td>\n      <td>...</td>\n      <td>...</td>\n      <td>...</td>\n      <td>...</td>\n      <td>...</td>\n      <td>...</td>\n      <td>...</td>\n      <td>...</td>\n    </tr>\n    <tr>\n      <th>6972</th>\n      <td>-1</td>\n      <td>Veer!</td>\n      <td>1132</td>\n      <td>1132</td>\n      <td>0</td>\n      <td>movies-2013.csv</td>\n      <td>2013</td>\n      <td>100%</td>\n      <td>-</td>\n    </tr>\n    <tr>\n      <th>6973</th>\n      <td>-1</td>\n      <td>Absence</td>\n      <td>1031</td>\n      <td>1031</td>\n      <td>0</td>\n      <td>movies-2013.csv</td>\n      <td>2013</td>\n      <td>100%</td>\n      <td>-</td>\n    </tr>\n    <tr>\n      <th>6974</th>\n      <td>-1</td>\n      <td>Remnants</td>\n      <td>1022</td>\n      <td>1022</td>\n      <td>0</td>\n      <td>movies-2013.csv</td>\n      <td>2013</td>\n      <td>100%</td>\n      <td>-</td>\n    </tr>\n    <tr>\n      <th>6975</th>\n      <td>-1</td>\n      <td>Syrup</td>\n      <td>663</td>\n      <td>663</td>\n      <td>0</td>\n      <td>movies-2013.csv</td>\n      <td>2013</td>\n      <td>100%</td>\n      <td>-</td>\n    </tr>\n    <tr>\n      <th>6976</th>\n      <td>-1</td>\n      <td>Triumph of the Wall</td>\n      <td>476</td>\n      <td>476</td>\n      <td>0</td>\n      <td>movies-2013.csv</td>\n      <td>2013</td>\n      <td>100%</td>\n      <td>-</td>\n    </tr>\n  </tbody>\n</table>\n<p>6977 rows × 9 columns</p>\n</div>"
     },
     "metadata": {},
     "execution_count": 9
    }
   ],
   "source": [
    "cleaned_df"
   ]
  },
  {
   "cell_type": "code",
   "execution_count": 10,
   "metadata": {},
   "outputs": [
    {
     "output_type": "execute_result",
     "data": {
      "text/plain": [
       "Rank              int64\n",
       "Release Group    object\n",
       "Worldwide         int64\n",
       "Domestic          int64\n",
       "Foreign           int64\n",
       "filename         object\n",
       "Year              int64\n",
       "Domestic %       object\n",
       "Foreign %        object\n",
       "dtype: object"
      ]
     },
     "metadata": {},
     "execution_count": 10
    }
   ],
   "source": [
    "cleaned_df.dtypes"
   ]
  },
  {
   "cell_type": "code",
   "execution_count": 11,
   "metadata": {},
   "outputs": [
    {
     "output_type": "execute_result",
     "data": {
      "text/plain": [
       "Rank              int64\n",
       "Release Group    object\n",
       "Worldwide        object\n",
       "Domestic         object\n",
       "Foreign          object\n",
       "filename         object\n",
       "Year              int64\n",
       "Domestic %       object\n",
       "Foreign %        object\n",
       "dtype: object"
      ]
     },
     "metadata": {},
     "execution_count": 11
    }
   ],
   "source": [
    "df.dtypes"
   ]
  },
  {
   "cell_type": "code",
   "execution_count": 12,
   "metadata": {},
   "outputs": [
    {
     "output_type": "execute_result",
     "data": {
      "text/plain": [
       "      Rank                               Release Group   Worldwide   Domestic  \\\n",
       "5192    -1                           Avengers: Endgame  2797800564  858373000   \n",
       "2441    -1  Star Wars: Episode VII - The Force Awakens  2068223624  936662225   \n",
       "0       -1                      Avengers: Infinity War  2048359754  678815482   \n",
       "2442    -1                              Jurassic World  1670400637  652270625   \n",
       "5193    -1                               The Lion King  1656943394  543638043   \n",
       "3901    -1                                The Avengers  1518812988  623357910   \n",
       "2443    -1                                   Furious 7  1515047671  353007020   \n",
       "5194    -1                                   Frozen II  1450026933  477373578   \n",
       "2444    -1                     Avengers: Age of Ultron  1402805868  459005868   \n",
       "1       -1                               Black Panther  1346913161  700059566   \n",
       "\n",
       "         Foreign         filename  Year Domestic % Foreign %  \n",
       "5192  1939427564  movies-2019.csv  2019      30.7%     69.3%  \n",
       "2441  1131561399  movies-2015.csv  2015      45.3%     54.7%  \n",
       "0     1369544272  movies-2018.csv  2018      33.1%     66.9%  \n",
       "2442  1018130012  movies-2015.csv  2015        39%       61%  \n",
       "5193  1113305351  movies-2019.csv  2019      32.8%     67.2%  \n",
       "3901   895455078  movies-2012.csv  2012        41%       59%  \n",
       "2443  1162040651  movies-2015.csv  2015      23.3%     76.7%  \n",
       "5194   972653355  movies-2019.csv  2019      32.9%     67.1%  \n",
       "2444   943800000  movies-2015.csv  2015      32.7%     67.3%  \n",
       "1      646853595  movies-2018.csv  2018        52%       48%  "
      ],
      "text/html": "<div>\n<style scoped>\n    .dataframe tbody tr th:only-of-type {\n        vertical-align: middle;\n    }\n\n    .dataframe tbody tr th {\n        vertical-align: top;\n    }\n\n    .dataframe thead th {\n        text-align: right;\n    }\n</style>\n<table border=\"1\" class=\"dataframe\">\n  <thead>\n    <tr style=\"text-align: right;\">\n      <th></th>\n      <th>Rank</th>\n      <th>Release Group</th>\n      <th>Worldwide</th>\n      <th>Domestic</th>\n      <th>Foreign</th>\n      <th>filename</th>\n      <th>Year</th>\n      <th>Domestic %</th>\n      <th>Foreign %</th>\n    </tr>\n  </thead>\n  <tbody>\n    <tr>\n      <th>5192</th>\n      <td>-1</td>\n      <td>Avengers: Endgame</td>\n      <td>2797800564</td>\n      <td>858373000</td>\n      <td>1939427564</td>\n      <td>movies-2019.csv</td>\n      <td>2019</td>\n      <td>30.7%</td>\n      <td>69.3%</td>\n    </tr>\n    <tr>\n      <th>2441</th>\n      <td>-1</td>\n      <td>Star Wars: Episode VII - The Force Awakens</td>\n      <td>2068223624</td>\n      <td>936662225</td>\n      <td>1131561399</td>\n      <td>movies-2015.csv</td>\n      <td>2015</td>\n      <td>45.3%</td>\n      <td>54.7%</td>\n    </tr>\n    <tr>\n      <th>0</th>\n      <td>-1</td>\n      <td>Avengers: Infinity War</td>\n      <td>2048359754</td>\n      <td>678815482</td>\n      <td>1369544272</td>\n      <td>movies-2018.csv</td>\n      <td>2018</td>\n      <td>33.1%</td>\n      <td>66.9%</td>\n    </tr>\n    <tr>\n      <th>2442</th>\n      <td>-1</td>\n      <td>Jurassic World</td>\n      <td>1670400637</td>\n      <td>652270625</td>\n      <td>1018130012</td>\n      <td>movies-2015.csv</td>\n      <td>2015</td>\n      <td>39%</td>\n      <td>61%</td>\n    </tr>\n    <tr>\n      <th>5193</th>\n      <td>-1</td>\n      <td>The Lion King</td>\n      <td>1656943394</td>\n      <td>543638043</td>\n      <td>1113305351</td>\n      <td>movies-2019.csv</td>\n      <td>2019</td>\n      <td>32.8%</td>\n      <td>67.2%</td>\n    </tr>\n    <tr>\n      <th>3901</th>\n      <td>-1</td>\n      <td>The Avengers</td>\n      <td>1518812988</td>\n      <td>623357910</td>\n      <td>895455078</td>\n      <td>movies-2012.csv</td>\n      <td>2012</td>\n      <td>41%</td>\n      <td>59%</td>\n    </tr>\n    <tr>\n      <th>2443</th>\n      <td>-1</td>\n      <td>Furious 7</td>\n      <td>1515047671</td>\n      <td>353007020</td>\n      <td>1162040651</td>\n      <td>movies-2015.csv</td>\n      <td>2015</td>\n      <td>23.3%</td>\n      <td>76.7%</td>\n    </tr>\n    <tr>\n      <th>5194</th>\n      <td>-1</td>\n      <td>Frozen II</td>\n      <td>1450026933</td>\n      <td>477373578</td>\n      <td>972653355</td>\n      <td>movies-2019.csv</td>\n      <td>2019</td>\n      <td>32.9%</td>\n      <td>67.1%</td>\n    </tr>\n    <tr>\n      <th>2444</th>\n      <td>-1</td>\n      <td>Avengers: Age of Ultron</td>\n      <td>1402805868</td>\n      <td>459005868</td>\n      <td>943800000</td>\n      <td>movies-2015.csv</td>\n      <td>2015</td>\n      <td>32.7%</td>\n      <td>67.3%</td>\n    </tr>\n    <tr>\n      <th>1</th>\n      <td>-1</td>\n      <td>Black Panther</td>\n      <td>1346913161</td>\n      <td>700059566</td>\n      <td>646853595</td>\n      <td>movies-2018.csv</td>\n      <td>2018</td>\n      <td>52%</td>\n      <td>48%</td>\n    </tr>\n  </tbody>\n</table>\n</div>"
     },
     "metadata": {},
     "execution_count": 12
    }
   ],
   "source": [
    "cleaned_df.sort_values(by=['Worldwide'], inplace=True, ascending=False)\n",
    "cleaned_df.head(10)"
   ]
  },
  {
   "cell_type": "code",
   "execution_count": 13,
   "metadata": {},
   "outputs": [
    {
     "output_type": "execute_result",
     "data": {
      "text/plain": [
       "   Rank                               Release Group   Worldwide   Domestic  \\\n",
       "0    -1                           Avengers: Endgame  2797800564  858373000   \n",
       "1    -1  Star Wars: Episode VII - The Force Awakens  2068223624  936662225   \n",
       "2    -1                      Avengers: Infinity War  2048359754  678815482   \n",
       "3    -1                              Jurassic World  1670400637  652270625   \n",
       "4    -1                               The Lion King  1656943394  543638043   \n",
       "\n",
       "      Foreign         filename  Year Domestic % Foreign %  \n",
       "0  1939427564  movies-2019.csv  2019      30.7%     69.3%  \n",
       "1  1131561399  movies-2015.csv  2015      45.3%     54.7%  \n",
       "2  1369544272  movies-2018.csv  2018      33.1%     66.9%  \n",
       "3  1018130012  movies-2015.csv  2015        39%       61%  \n",
       "4  1113305351  movies-2019.csv  2019      32.8%     67.2%  "
      ],
      "text/html": "<div>\n<style scoped>\n    .dataframe tbody tr th:only-of-type {\n        vertical-align: middle;\n    }\n\n    .dataframe tbody tr th {\n        vertical-align: top;\n    }\n\n    .dataframe thead th {\n        text-align: right;\n    }\n</style>\n<table border=\"1\" class=\"dataframe\">\n  <thead>\n    <tr style=\"text-align: right;\">\n      <th></th>\n      <th>Rank</th>\n      <th>Release Group</th>\n      <th>Worldwide</th>\n      <th>Domestic</th>\n      <th>Foreign</th>\n      <th>filename</th>\n      <th>Year</th>\n      <th>Domestic %</th>\n      <th>Foreign %</th>\n    </tr>\n  </thead>\n  <tbody>\n    <tr>\n      <th>0</th>\n      <td>-1</td>\n      <td>Avengers: Endgame</td>\n      <td>2797800564</td>\n      <td>858373000</td>\n      <td>1939427564</td>\n      <td>movies-2019.csv</td>\n      <td>2019</td>\n      <td>30.7%</td>\n      <td>69.3%</td>\n    </tr>\n    <tr>\n      <th>1</th>\n      <td>-1</td>\n      <td>Star Wars: Episode VII - The Force Awakens</td>\n      <td>2068223624</td>\n      <td>936662225</td>\n      <td>1131561399</td>\n      <td>movies-2015.csv</td>\n      <td>2015</td>\n      <td>45.3%</td>\n      <td>54.7%</td>\n    </tr>\n    <tr>\n      <th>2</th>\n      <td>-1</td>\n      <td>Avengers: Infinity War</td>\n      <td>2048359754</td>\n      <td>678815482</td>\n      <td>1369544272</td>\n      <td>movies-2018.csv</td>\n      <td>2018</td>\n      <td>33.1%</td>\n      <td>66.9%</td>\n    </tr>\n    <tr>\n      <th>3</th>\n      <td>-1</td>\n      <td>Jurassic World</td>\n      <td>1670400637</td>\n      <td>652270625</td>\n      <td>1018130012</td>\n      <td>movies-2015.csv</td>\n      <td>2015</td>\n      <td>39%</td>\n      <td>61%</td>\n    </tr>\n    <tr>\n      <th>4</th>\n      <td>-1</td>\n      <td>The Lion King</td>\n      <td>1656943394</td>\n      <td>543638043</td>\n      <td>1113305351</td>\n      <td>movies-2019.csv</td>\n      <td>2019</td>\n      <td>32.8%</td>\n      <td>67.2%</td>\n    </tr>\n  </tbody>\n</table>\n</div>"
     },
     "metadata": {},
     "execution_count": 13
    }
   ],
   "source": [
    "cleaned_df.reset_index(inplace=True, drop=True)\n",
    "cleaned_df.head()"
   ]
  },
  {
   "cell_type": "code",
   "execution_count": 14,
   "metadata": {},
   "outputs": [
    {
     "output_type": "execute_result",
     "data": {
      "text/plain": [
       "   Rank                               Release Group   Worldwide   Domestic  \\\n",
       "0     1                           Avengers: Endgame  2797800564  858373000   \n",
       "1     2  Star Wars: Episode VII - The Force Awakens  2068223624  936662225   \n",
       "2     3                      Avengers: Infinity War  2048359754  678815482   \n",
       "3     4                              Jurassic World  1670400637  652270625   \n",
       "4     5                               The Lion King  1656943394  543638043   \n",
       "\n",
       "      Foreign         filename  Year Domestic % Foreign %  \n",
       "0  1939427564  movies-2019.csv  2019      30.7%     69.3%  \n",
       "1  1131561399  movies-2015.csv  2015      45.3%     54.7%  \n",
       "2  1369544272  movies-2018.csv  2018      33.1%     66.9%  \n",
       "3  1018130012  movies-2015.csv  2015        39%       61%  \n",
       "4  1113305351  movies-2019.csv  2019      32.8%     67.2%  "
      ],
      "text/html": "<div>\n<style scoped>\n    .dataframe tbody tr th:only-of-type {\n        vertical-align: middle;\n    }\n\n    .dataframe tbody tr th {\n        vertical-align: top;\n    }\n\n    .dataframe thead th {\n        text-align: right;\n    }\n</style>\n<table border=\"1\" class=\"dataframe\">\n  <thead>\n    <tr style=\"text-align: right;\">\n      <th></th>\n      <th>Rank</th>\n      <th>Release Group</th>\n      <th>Worldwide</th>\n      <th>Domestic</th>\n      <th>Foreign</th>\n      <th>filename</th>\n      <th>Year</th>\n      <th>Domestic %</th>\n      <th>Foreign %</th>\n    </tr>\n  </thead>\n  <tbody>\n    <tr>\n      <th>0</th>\n      <td>1</td>\n      <td>Avengers: Endgame</td>\n      <td>2797800564</td>\n      <td>858373000</td>\n      <td>1939427564</td>\n      <td>movies-2019.csv</td>\n      <td>2019</td>\n      <td>30.7%</td>\n      <td>69.3%</td>\n    </tr>\n    <tr>\n      <th>1</th>\n      <td>2</td>\n      <td>Star Wars: Episode VII - The Force Awakens</td>\n      <td>2068223624</td>\n      <td>936662225</td>\n      <td>1131561399</td>\n      <td>movies-2015.csv</td>\n      <td>2015</td>\n      <td>45.3%</td>\n      <td>54.7%</td>\n    </tr>\n    <tr>\n      <th>2</th>\n      <td>3</td>\n      <td>Avengers: Infinity War</td>\n      <td>2048359754</td>\n      <td>678815482</td>\n      <td>1369544272</td>\n      <td>movies-2018.csv</td>\n      <td>2018</td>\n      <td>33.1%</td>\n      <td>66.9%</td>\n    </tr>\n    <tr>\n      <th>3</th>\n      <td>4</td>\n      <td>Jurassic World</td>\n      <td>1670400637</td>\n      <td>652270625</td>\n      <td>1018130012</td>\n      <td>movies-2015.csv</td>\n      <td>2015</td>\n      <td>39%</td>\n      <td>61%</td>\n    </tr>\n    <tr>\n      <th>4</th>\n      <td>5</td>\n      <td>The Lion King</td>\n      <td>1656943394</td>\n      <td>543638043</td>\n      <td>1113305351</td>\n      <td>movies-2019.csv</td>\n      <td>2019</td>\n      <td>32.8%</td>\n      <td>67.2%</td>\n    </tr>\n  </tbody>\n</table>\n</div>"
     },
     "metadata": {},
     "execution_count": 14
    }
   ],
   "source": [
    "cleaned_df['Rank'] = cleaned_df.index +1\n",
    "cleaned_df.head()"
   ]
  },
  {
   "cell_type": "code",
   "execution_count": 15,
   "metadata": {},
   "outputs": [
    {
     "output_type": "execute_result",
     "data": {
      "text/plain": [
       "      Rank                                      Release Group   Worldwide  \\\n",
       "0        1                                  Avengers: Endgame  2797800564   \n",
       "1        2         Star Wars: Episode VII - The Force Awakens  2068223624   \n",
       "2        3                             Avengers: Infinity War  2048359754   \n",
       "3        4                                     Jurassic World  1670400637   \n",
       "4        5                                      The Lion King  1656943394   \n",
       "...    ...                                                ...         ...   \n",
       "6972  6973                                          Antiporno         294   \n",
       "6973  6974                              Wet Woman in the Wind         268   \n",
       "6974  6975                                Mummy, I'm A Zombie         120   \n",
       "6975  6976                                     Paranoid Girls          78   \n",
       "6976  6977  Confession of a Child of the Century 2015 Re-r...          74   \n",
       "\n",
       "       Domestic     Foreign         filename  Year  Domestic %  Foreign %  \n",
       "0     858373000  1939427564  movies-2019.csv  2019    0.306803   0.693197  \n",
       "1     936662225  1131561399  movies-2015.csv  2015    0.452882   0.547118  \n",
       "2     678815482  1369544272  movies-2018.csv  2018    0.331395   0.668605  \n",
       "3     652270625  1018130012  movies-2015.csv  2015    0.390488   0.609512  \n",
       "4     543638043  1113305351  movies-2019.csv  2019    0.328097   0.671903  \n",
       "...         ...         ...              ...   ...         ...        ...  \n",
       "6972          0         294  movies-2017.csv  2017    0.000000   1.000000  \n",
       "6973          0         268  movies-2017.csv  2017    0.000000   1.000000  \n",
       "6974        120           0  movies-2014.csv  2014    1.000000   0.000000  \n",
       "6975         78           0  movies-2015.csv  2015    1.000000   0.000000  \n",
       "6976         74           0  movies-2015.csv  2015    1.000000   0.000000  \n",
       "\n",
       "[6977 rows x 9 columns]"
      ],
      "text/html": "<div>\n<style scoped>\n    .dataframe tbody tr th:only-of-type {\n        vertical-align: middle;\n    }\n\n    .dataframe tbody tr th {\n        vertical-align: top;\n    }\n\n    .dataframe thead th {\n        text-align: right;\n    }\n</style>\n<table border=\"1\" class=\"dataframe\">\n  <thead>\n    <tr style=\"text-align: right;\">\n      <th></th>\n      <th>Rank</th>\n      <th>Release Group</th>\n      <th>Worldwide</th>\n      <th>Domestic</th>\n      <th>Foreign</th>\n      <th>filename</th>\n      <th>Year</th>\n      <th>Domestic %</th>\n      <th>Foreign %</th>\n    </tr>\n  </thead>\n  <tbody>\n    <tr>\n      <th>0</th>\n      <td>1</td>\n      <td>Avengers: Endgame</td>\n      <td>2797800564</td>\n      <td>858373000</td>\n      <td>1939427564</td>\n      <td>movies-2019.csv</td>\n      <td>2019</td>\n      <td>0.306803</td>\n      <td>0.693197</td>\n    </tr>\n    <tr>\n      <th>1</th>\n      <td>2</td>\n      <td>Star Wars: Episode VII - The Force Awakens</td>\n      <td>2068223624</td>\n      <td>936662225</td>\n      <td>1131561399</td>\n      <td>movies-2015.csv</td>\n      <td>2015</td>\n      <td>0.452882</td>\n      <td>0.547118</td>\n    </tr>\n    <tr>\n      <th>2</th>\n      <td>3</td>\n      <td>Avengers: Infinity War</td>\n      <td>2048359754</td>\n      <td>678815482</td>\n      <td>1369544272</td>\n      <td>movies-2018.csv</td>\n      <td>2018</td>\n      <td>0.331395</td>\n      <td>0.668605</td>\n    </tr>\n    <tr>\n      <th>3</th>\n      <td>4</td>\n      <td>Jurassic World</td>\n      <td>1670400637</td>\n      <td>652270625</td>\n      <td>1018130012</td>\n      <td>movies-2015.csv</td>\n      <td>2015</td>\n      <td>0.390488</td>\n      <td>0.609512</td>\n    </tr>\n    <tr>\n      <th>4</th>\n      <td>5</td>\n      <td>The Lion King</td>\n      <td>1656943394</td>\n      <td>543638043</td>\n      <td>1113305351</td>\n      <td>movies-2019.csv</td>\n      <td>2019</td>\n      <td>0.328097</td>\n      <td>0.671903</td>\n    </tr>\n    <tr>\n      <th>...</th>\n      <td>...</td>\n      <td>...</td>\n      <td>...</td>\n      <td>...</td>\n      <td>...</td>\n      <td>...</td>\n      <td>...</td>\n      <td>...</td>\n      <td>...</td>\n    </tr>\n    <tr>\n      <th>6972</th>\n      <td>6973</td>\n      <td>Antiporno</td>\n      <td>294</td>\n      <td>0</td>\n      <td>294</td>\n      <td>movies-2017.csv</td>\n      <td>2017</td>\n      <td>0.000000</td>\n      <td>1.000000</td>\n    </tr>\n    <tr>\n      <th>6973</th>\n      <td>6974</td>\n      <td>Wet Woman in the Wind</td>\n      <td>268</td>\n      <td>0</td>\n      <td>268</td>\n      <td>movies-2017.csv</td>\n      <td>2017</td>\n      <td>0.000000</td>\n      <td>1.000000</td>\n    </tr>\n    <tr>\n      <th>6974</th>\n      <td>6975</td>\n      <td>Mummy, I'm A Zombie</td>\n      <td>120</td>\n      <td>120</td>\n      <td>0</td>\n      <td>movies-2014.csv</td>\n      <td>2014</td>\n      <td>1.000000</td>\n      <td>0.000000</td>\n    </tr>\n    <tr>\n      <th>6975</th>\n      <td>6976</td>\n      <td>Paranoid Girls</td>\n      <td>78</td>\n      <td>78</td>\n      <td>0</td>\n      <td>movies-2015.csv</td>\n      <td>2015</td>\n      <td>1.000000</td>\n      <td>0.000000</td>\n    </tr>\n    <tr>\n      <th>6976</th>\n      <td>6977</td>\n      <td>Confession of a Child of the Century 2015 Re-r...</td>\n      <td>74</td>\n      <td>74</td>\n      <td>0</td>\n      <td>movies-2015.csv</td>\n      <td>2015</td>\n      <td>1.000000</td>\n      <td>0.000000</td>\n    </tr>\n  </tbody>\n</table>\n<p>6977 rows × 9 columns</p>\n</div>"
     },
     "metadata": {},
     "execution_count": 15
    }
   ],
   "source": [
    "cleaned_df['Domestic %'] = cleaned_df['Domestic'] / cleaned_df['Worldwide']\n",
    "cleaned_df['Foreign %'] = cleaned_df['Foreign'] / cleaned_df['Worldwide']\n",
    "cleaned_df"
   ]
  },
  {
   "cell_type": "code",
   "execution_count": 16,
   "metadata": {},
   "outputs": [
    {
     "output_type": "execute_result",
     "data": {
      "text/plain": [
       "Rank               int64\n",
       "Release Group     object\n",
       "Worldwide          int64\n",
       "Domestic           int64\n",
       "Foreign            int64\n",
       "filename          object\n",
       "Year               int64\n",
       "Domestic %       float64\n",
       "Foreign %        float64\n",
       "dtype: object"
      ]
     },
     "metadata": {},
     "execution_count": 16
    }
   ],
   "source": [
    "cleaned_df.dtypes"
   ]
  },
  {
   "cell_type": "code",
   "execution_count": 17,
   "metadata": {},
   "outputs": [],
   "source": [
    "output_file = os.path.join(os.path.join(CACHE_DIR, 'movies-boxoffice-dataset-cleaned.csv'))\n",
    "cleaned_df.to_csv(output_file, index=False)"
   ]
  },
  {
   "cell_type": "code",
   "execution_count": null,
   "metadata": {},
   "outputs": [],
   "source": []
  }
 ]
}