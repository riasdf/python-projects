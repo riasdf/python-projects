{
 "cells": [
  {
   "cell_type": "markdown",
   "metadata": {},
   "source": [
    "# Qbar Code generator using python"
   ]
  },
  {
   "cell_type": "markdown",
   "metadata": {},
   "source": [
    "## Installing libraries"
   ]
  },
  {
   "cell_type": "code",
   "execution_count": 2,
   "metadata": {},
   "outputs": [
    {
     "output_type": "stream",
     "name": "stdout",
     "text": "Collecting pyqrcode\n  Downloading https://files.pythonhosted.org/packages/37/61/f07226075c347897937d4086ef8e55f0a62ae535e28069884ac68d979316/PyQRCode-1.2.1.tar.gz\nBuilding wheels for collected packages: pyqrcode\n  Building wheel for pyqrcode (setup.py) ... \u001b[?25ldone\n\u001b[?25h  Created wheel for pyqrcode: filename=PyQRCode-1.2.1-cp37-none-any.whl size=36245 sha256=347b59e838d0efc77ba9576eb9e4a3aed2eacb8df90aa1c394c07d0c06587527\n  Stored in directory: /home/its-k/.cache/pip/wheels/54/61/2f/a4f51b09473db5737db0f654ed10eb9a4ee01f83a7412de349\nSuccessfully built pyqrcode\nInstalling collected packages: pyqrcode\nSuccessfully installed pyqrcode-1.2.1\nCollecting pypng\n\u001b[?25l  Downloading https://files.pythonhosted.org/packages/bc/fb/f719f1ac965e2101aa6ea6f54ef8b40f8fbb033f6ad07c017663467f5147/pypng-0.0.20.tar.gz (649kB)\n\u001b[K     |████████████████████████████████| 655kB 516kB/s \n\u001b[?25hBuilding wheels for collected packages: pypng\n  Building wheel for pypng (setup.py) ... \u001b[?25ldone\n\u001b[?25h  Created wheel for pypng: filename=pypng-0.0.20-cp37-none-any.whl size=67164 sha256=fb166716a155daee44d95fb868658045f4b96729a5640ba1050e0d13badf10bf\n  Stored in directory: /home/its-k/.cache/pip/wheels/41/6b/ef/0493b536b6d4722c2ae9486691b1d49b922b9877922beeabb3\nSuccessfully built pypng\nInstalling collected packages: pypng\nSuccessfully installed pypng-0.0.20\n"
    }
   ],
   "source": [
    "!pip install pyqrcode\n",
    "!pip install pypng"
   ]
  },
  {
   "cell_type": "markdown",
   "metadata": {},
   "source": [
    "## importing libraries"
   ]
  },
  {
   "cell_type": "code",
   "execution_count": 11,
   "metadata": {},
   "outputs": [],
   "source": [
    "import pyqrcode\n",
    "import png \n",
    "from pyqrcode import QRCode"
   ]
  },
  {
   "cell_type": "markdown",
   "metadata": {},
   "source": [
    "## String to represent QRcode"
   ]
  },
  {
   "cell_type": "code",
   "execution_count": 16,
   "metadata": {},
   "outputs": [],
   "source": [
    "s = \"https://www.google.com/search?q=%23its_Kumar\""
   ]
  },
  {
   "cell_type": "markdown",
   "metadata": {},
   "source": [
    "## Generate QRCode"
   ]
  },
  {
   "cell_type": "code",
   "execution_count": 17,
   "metadata": {},
   "outputs": [],
   "source": [
    "qr = pyqrcode.create(s)\n"
   ]
  },
  {
   "cell_type": "code",
   "execution_count": 25,
   "metadata": {},
   "outputs": [
    {
     "output_type": "execute_result",
     "data": {
      "text/plain": "QRCode(content=b'https://www.google.com/search?q=%23its_Kumar', error='H', version=5, mode='binary')"
     },
     "metadata": {},
     "execution_count": 25
    }
   ],
   "source": [
    "qr"
   ]
  },
  {
   "cell_type": "code",
   "execution_count": 29,
   "metadata": {},
   "outputs": [
    {
     "output_type": "execute_result",
     "data": {
      "text/plain": "b'https://www.google.com/search?q=%23its_Kumar'"
     },
     "metadata": {},
     "execution_count": 29
    }
   ],
   "source": [
    "# check data \n",
    "qr.data"
   ]
  },
  {
   "cell_type": "code",
   "execution_count": 24,
   "metadata": {},
   "outputs": [
    {
     "output_type": "execute_result",
     "data": {
      "text/plain": "'000000000000000000000000000000000000000000000\\n000000000000000000000000000000000000000000000\\n000000000000000000000000000000000000000000000\\n000000000000000000000000000000000000000000000\\n000011111110110101111111100101111011111110000\\n000010000010000001110000010111011010000010000\\n000010111010011001000011011000100010111010000\\n000010111010111111100010011100010010111010000\\n000010111010010100001100100110011010111010000\\n000010000010010010010001000101111010000010000\\n000011111110101010101010101010101011111110000\\n000000000000011111111001111001101000000000000\\n000000101110101000011101110111010100010010000\\n000010001000001101001010000100001010010110000\\n000001100011010010111101010001000010100010000\\n000010111100010001000100000011100100010000000\\n000010011110001000000010011011011110010100000\\n000000111001110000110010000110101010011110000\\n000001111110001011100000101101000101101010000\\n000011001001100100101100111001000010000010000\\n000010110111010110110001101011001110010110000\\n000001111000001001000101000100001110001110000\\n000011110011010110101010110101001011000110000\\n000001110100110110001110000111111000100100000\\n000000111011001100111011011001011111000100000\\n000010100101111000000111100010100010001010000\\n000011000010101011001001110010001010110010000\\n000000001100111010011101110011100010000000000\\n000000100010000111101111010111011111010110000\\n000000111001110111101010100101011000010110000\\n000010110010001011001001110011000011110110000\\n000001100101010100111001111001101011100010000\\n000010001011101011110100001011011111100100000\\n000000000000110011000011011001111000100010000\\n000011111110000000100111010001111010101110000\\n000010000010100101001110111111101000100010000\\n000010111010110100110101110101001111110110000\\n000010111010010111110111010011011101100110000\\n000010111010111000100001101000101101110010000\\n000010000010001010100000111101111000100100000\\n000011111110001110001110110001111100100110000\\n000000000000000000000000000000000000000000000\\n000000000000000000000000000000000000000000000\\n000000000000000000000000000000000000000000000\\n000000000000000000000000000000000000000000000\\n'"
     },
     "metadata": {},
     "execution_count": 24
    }
   ],
   "source": [
    "qr.text()"
   ]
  },
  {
   "cell_type": "markdown",
   "metadata": {},
   "source": [
    "## Create and save file"
   ]
  },
  {
   "cell_type": "code",
   "execution_count": 19,
   "metadata": {},
   "outputs": [],
   "source": [
    "qr.svg('qrcode.svg', scale=8)"
   ]
  },
  {
   "cell_type": "code",
   "execution_count": 20,
   "metadata": {},
   "outputs": [],
   "source": [
    "qr.png('qrcode.png', scale=6)"
   ]
  },
  {
   "cell_type": "markdown",
   "metadata": {},
   "source": [
    "## Displaying the QRCode"
   ]
  },
  {
   "cell_type": "code",
   "execution_count": 21,
   "metadata": {},
   "outputs": [],
   "source": [
    "from IPython.display import Image"
   ]
  },
  {
   "cell_type": "code",
   "execution_count": 22,
   "metadata": {},
   "outputs": [
    {
     "output_type": "execute_result",
     "data": {
      "image/png": "[encoded data removed]",
      "text/plain": "<IPython.core.display.Image object>"
     },
     "metadata": {},
     "execution_count": 22
    }
   ],
   "source": [
    "Image('qrcode.png')"
   ]
  },
  {
   "cell_type": "code",
   "execution_count": 23,
   "metadata": {},
   "outputs": [
    {
     "output_type": "execute_result",
     "data": {
      "text/plain": "<IPython.core.display.SVG object>",
      "image/svg+xml": "<svg class=\"pyqrcode\" height=\"360\" width=\"360\" xmlns=\"http://www.w3.org/2000/svg\"><path class=\"pyqrline\" d=\"M4 4.5h7m1 0h2m1 0h1m1 0h8m2 0h1m1 0h4m1 0h7m-37 1h1m5 0h1m6 0h3m5 0h1m1 0h3m1 0h2m1 0h1m5 0h1m-37 1h1m1 0h3m1 0h1m2 0h2m2 0h1m4 0h2m1 0h2m3 0h1m3 0h1m1 0h3m1 0h1m-37 1h1m1 0h3m1 0h1m1 0h7m3 0h1m2 0h3m3 0h1m2 0h1m1 0h3m1 0h1m-37 1h1m1 0h3m1 0h1m2 0h1m1 0h1m4 0h2m2 0h1m2 0h2m2 0h2m1 0h1m1 0h3m1 0h1m-37 1h1m5 0h1m2 0h1m2 0h1m2 0h1m3 0h1m3 0h1m1 0h4m1 0h1m5 0h1m-37 1h7m1 0h1m1 0h1m1 0h1m1 0h1m1 0h1m1 0h1m1 0h1m1 0h1m1 0h1m1 0h1m1 0h1m1 0h7m-28 1h8m2 0h4m2 0h2m1 0h1m-27 1h1m1 0h3m1 0h1m1 0h1m4 0h3m1 0h3m1 0h3m1 0h1m1 0h1m3 0h1m2 0h1m-37 1h1m3 0h1m5 0h2m1 0h1m2 0h1m1 0h1m4 0h1m4 0h1m1 0h1m2 0h1m1 0h2m-36 1h2m3 0h2m1 0h1m2 0h1m1 0h4m1 0h1m1 0h1m3 0h1m4 0h1m1 0h1m3 0h1m-37 1h1m1 0h4m3 0h1m3 0h1m3 0h1m6 0h3m2 0h1m3 0h1m-34 1h1m2 0h4m3 0h1m7 0h1m2 0h2m1 0h2m1 0h4m2 0h1m1 0h1m-34 1h3m2 0h3m4 0h2m2 0h1m4 0h2m1 0h1m1 0h1m1 0h1m2 0h4m-36 1h6m3 0h1m1 0h3m5 0h1m1 0h2m1 0h1m3 0h1m1 0h2m1 0h1m1 0h1m-37 1h2m2 0h1m2 0h2m2 0h1m2 0h1m1 0h2m2 0h3m2 0h1m4 0h1m5 0h1m-37 1h1m1 0h2m1 0h3m1 0h1m1 0h2m1 0h2m3 0h2m1 0h1m1 0h2m2 0h3m2 0h1m1 0h2m-36 1h4m5 0h1m2 0h1m3 0h1m1 0h1m3 0h1m4 0h3m3 0h3m-37 1h4m2 0h2m1 0h1m1 0h2m1 0h1m1 0h1m1 0h1m1 0h2m1 0h1m1 0h1m2 0h1m1 0h2m3 0h2m-36 1h3m1 0h1m2 0h2m1 0h2m3 0h3m4 0h6m3 0h1m2 0h1m-34 1h3m1 0h2m2 0h2m2 0h3m1 0h2m1 0h2m2 0h1m1 0h5m3 0h1m-36 1h1m1 0h1m2 0h1m1 0h4m6 0h4m3 0h1m1 0h1m3 0h1m3 0h1m1 0h1m-37 1h2m4 0h1m1 0h1m1 0h1m1 0h2m2 0h1m2 0h3m2 0h1m3 0h1m1 0h1m1 0h2m2 0h1m-33 1h2m2 0h3m1 0h1m2 0h3m1 0h3m2 0h3m3 0h1m-29 1h1m3 0h1m4 0h4m1 0h4m1 0h1m1 0h3m1 0h5m1 0h1m1 0h2m-35 1h3m2 0h3m1 0h4m1 0h1m1 0h1m1 0h1m2 0h1m1 0h1m1 0h2m4 0h1m1 0h2m-37 1h1m1 0h2m2 0h1m3 0h1m1 0h2m2 0h1m2 0h3m2 0h2m4 0h4m1 0h2m-36 1h2m2 0h1m1 0h1m1 0h1m1 0h1m2 0h3m2 0h4m2 0h2m1 0h1m1 0h3m3 0h1m-37 1h1m3 0h1m1 0h3m1 0h1m1 0h4m1 0h1m4 0h1m1 0h2m1 0h6m2 0h1m-28 1h2m2 0h2m4 0h2m1 0h2m2 0h4m3 0h1m3 0h1m-37 1h7m7 0h1m2 0h3m1 0h1m3 0h4m1 0h1m1 0h1m1 0h3m-37 1h1m5 0h1m1 0h1m2 0h1m1 0h1m2 0h3m1 0h7m1 0h1m3 0h1m3 0h1m-37 1h1m1 0h3m1 0h1m1 0h2m1 0h1m2 0h2m1 0h1m1 0h3m1 0h1m1 0h1m2 0h6m1 0h2m-37 1h1m1 0h3m1 0h1m2 0h1m1 0h5m1 0h3m1 0h1m2 0h2m1 0h3m1 0h2m2 0h2m-37 1h1m1 0h3m1 0h1m1 0h3m3 0h1m4 0h2m1 0h1m3 0h1m1 0h2m1 0h3m2 0h1m-37 1h1m5 0h1m3 0h1m1 0h1m1 0h1m5 0h4m1 0h4m3 0h1m2 0h1m-36 1h7m3 0h3m3 0h3m1 0h2m3 0h5m2 0h1m2 0h2\" stroke=\"#000\" transform=\"scale(8)\"/></svg>"
     },
     "metadata": {},
     "execution_count": 23
    }
   ],
   "source": [
    "from IPython.display import SVG\n",
    "SVG('qrcode.svg')"
   ]
  }
 ],
 "metadata": {
  "language_info": {
   "codemirror_mode": {
    "name": "ipython",
    "version": 3
   },
   "file_extension": ".py",
   "mimetype": "text/x-python",
   "name": "python",
   "nbconvert_exporter": "python",
   "pygments_lexer": "ipython3",
   "version": "3.7.4-final"
  },
  "orig_nbformat": 2,
  "kernelspec": {
   "name": "python37464bitlearningcondacf134821621f44b6a2588003cb8c2979",
   "display_name": "Python 3.7.4 64-bit ('Learning': conda)"
  }
 },
 "nbformat": 4,
 "nbformat_minor": 2
}